{
 "cells": [
  {
   "cell_type": "code",
   "execution_count": 1,
   "id": "da1e7c54",
   "metadata": {},
   "outputs": [],
   "source": [
    "import numpy as np\n",
    "import pandas as pd\n",
    "import os"
   ]
  },
  {
   "cell_type": "code",
   "execution_count": 2,
   "id": "8bcca1e1",
   "metadata": {},
   "outputs": [],
   "source": [
    "df1=pd.read_csv(\"output/cnn_one_pred_df.csv\")\n",
    "df10=pd.read_csv(\"output/cnn_10_pred_df.csv\")\n",
    "df50=pd.read_csv(\"output/cnn_50_pred_df.csv\")\n",
    "df_lstm=pd.read_csv(\"output/lstm_pred_df.csv\")\n",
    "df_swin=pd.read_csv(\"swin_inference/embed_swinv2_softmax_output.csv\")  #from "
   ]
  },
  {
   "cell_type": "code",
   "execution_count": 3,
   "id": "3b863ac6",
   "metadata": {},
   "outputs": [],
   "source": [
    "df_swin=df_swin[[\"Unnamed: 0\",\"1\"]]\n",
    "df_swin=df_swin.rename(columns={\"Unnamed: 0\":\"name\",\"1\":\"pred\"})"
   ]
  },
  {
   "cell_type": "code",
   "execution_count": 4,
   "id": "30b4fb69",
   "metadata": {},
   "outputs": [
    {
     "name": "stdout",
     "output_type": "stream",
     "text": [
      "covid: 772   non_covid: 4509\n"
     ]
    }
   ],
   "source": [
    "file=\"Submission1\"\n",
    "use_df=df10\n",
    "folder_path=\"covid_pred\"+\"/\"+file\n",
    "if not os.path.exists(folder_path):\n",
    "    os.makedirs(folder_path)\n",
    "use_df[\"name\"]=use_df[\"path\"].apply(lambda x : x.split(\"/\")[-1])\n",
    "covid_ct=use_df[use_df[\"pred\"]>0.5].name.values\n",
    "non_covid_ct=use_df[use_df[\"pred\"]<0.5].name.values\n",
    "\n",
    "covid_df=pd.DataFrame(covid_ct,columns=[\"ct_name\"])\n",
    "non_covid_df=pd.DataFrame(non_covid_ct,columns=[\"ct_name\"])\n",
    "covid_df.sort_values(by=['ct_name'],inplace=True)\n",
    "non_covid_df.sort_values(by=['ct_name'],inplace=True)\n",
    "\n",
    "covid_df.to_csv(f\"{folder_path}/covid.csv\",header=False,index=False)\n",
    "non_covid_df.to_csv(f\"{folder_path}/non-covid.csv\",header=False,index=False)\n",
    "print(\"covid:\",len(covid_df) , \"  non_covid:\",len(non_covid_df))\n",
    "    "
   ]
  },
  {
   "cell_type": "code",
   "execution_count": 5,
   "id": "883f4159",
   "metadata": {},
   "outputs": [
    {
     "name": "stdout",
     "output_type": "stream",
     "text": [
      "covid: 816   non_covid: 4465\n"
     ]
    }
   ],
   "source": [
    "file=\"Submission2\"\n",
    "use_df=df_lstm\n",
    "folder_path=\"covid_pred\"+\"/\"+file\n",
    "if not os.path.exists(folder_path):\n",
    "    os.makedirs(folder_path)\n",
    "use_df[\"name\"]=use_df[\"path\"].apply(lambda x : x.split(\"/\")[-1])\n",
    "covid_ct=use_df[use_df[\"pred\"]>0.5].name.values\n",
    "non_covid_ct=use_df[use_df[\"pred\"]<0.5].name.values\n",
    "\n",
    "covid_df=pd.DataFrame(covid_ct,columns=[\"ct_name\"])\n",
    "non_covid_df=pd.DataFrame(non_covid_ct,columns=[\"ct_name\"])\n",
    "covid_df.sort_values(by=['ct_name'],inplace=True)\n",
    "non_covid_df.sort_values(by=['ct_name'],inplace=True)\n",
    "\n",
    "covid_df.to_csv(f\"{folder_path}/covid.csv\",header=False,index=False)\n",
    "non_covid_df.to_csv(f\"{folder_path}/non-covid.csv\",header=False,index=False)\n",
    "print(\"covid:\",len(covid_df) , \"  non_covid:\",len(non_covid_df))\n",
    "    "
   ]
  },
  {
   "cell_type": "code",
   "execution_count": 6,
   "id": "abcb9d99",
   "metadata": {},
   "outputs": [
    {
     "name": "stdout",
     "output_type": "stream",
     "text": [
      "covid: 678   non_covid: 4603\n"
     ]
    }
   ],
   "source": [
    "file=\"Submission3\"\n",
    "use_df=df_swin\n",
    "folder_path=\"covid_pred\"+\"/\"+file\n",
    "if not os.path.exists(folder_path):\n",
    "    os.makedirs(folder_path)\n",
    "\n",
    "covid_ct=use_df[use_df[\"pred\"]>0.5].name.values\n",
    "non_covid_ct=use_df[use_df[\"pred\"]<0.5].name.values\n",
    "\n",
    "covid_df=pd.DataFrame(covid_ct,columns=[\"ct_name\"])\n",
    "non_covid_df=pd.DataFrame(non_covid_ct,columns=[\"ct_name\"])\n",
    "covid_df.sort_values(by=['ct_name'],inplace=True)\n",
    "non_covid_df.sort_values(by=['ct_name'],inplace=True)\n",
    "\n",
    "covid_df.to_csv(f\"{folder_path}/covid.csv\",header=False,index=False)\n",
    "non_covid_df.to_csv(f\"{folder_path}/non-covid.csv\",header=False,index=False)\n",
    "print(\"covid:\",len(covid_df) , \"  non_covid:\",len(non_covid_df))"
   ]
  },
  {
   "cell_type": "code",
   "execution_count": 7,
   "id": "6ecd8f94",
   "metadata": {},
   "outputs": [
    {
     "name": "stdout",
     "output_type": "stream",
     "text": [
      "covid: 776   non_covid: 4505\n"
     ]
    }
   ],
   "source": [
    "file=\"Submission4\"\n",
    "use_df=df50\n",
    "folder_path=\"covid_pred\"+\"/\"+file\n",
    "if not os.path.exists(folder_path):\n",
    "    os.makedirs(folder_path)\n",
    "use_df[\"name\"]=use_df[\"path\"].apply(lambda x : x.split(\"/\")[-1])\n",
    "covid_ct=use_df[use_df[\"pred\"]>0.5].name.values\n",
    "non_covid_ct=use_df[use_df[\"pred\"]<0.5].name.values\n",
    "\n",
    "covid_df=pd.DataFrame(covid_ct,columns=[\"ct_name\"])\n",
    "non_covid_df=pd.DataFrame(non_covid_ct,columns=[\"ct_name\"])\n",
    "covid_df.sort_values(by=['ct_name'],inplace=True)\n",
    "non_covid_df.sort_values(by=['ct_name'],inplace=True)\n",
    "\n",
    "covid_df.to_csv(f\"{folder_path}/covid.csv\",header=False,index=False)\n",
    "non_covid_df.to_csv(f\"{folder_path}/non-covid.csv\",header=False,index=False)\n",
    "print(\"covid:\",len(covid_df) , \"  non_covid:\",len(non_covid_df))"
   ]
  },
  {
   "cell_type": "code",
   "execution_count": 8,
   "id": "3df25f3c",
   "metadata": {},
   "outputs": [
    {
     "name": "stdout",
     "output_type": "stream",
     "text": [
      "covid: 785   non_covid: 4496\n"
     ]
    }
   ],
   "source": [
    "file=\"Submission5\"\n",
    "df_total=df_swin.merge(df10[[\"name\",\"pred\"]], on='name')\n",
    "df_total=df_total.merge(df_lstm[[\"name\",\"pred\"]], on='name')\n",
    "df_total[\"total_pred\"]=(df_total.iloc[:,1].values+df_total.iloc[:,2].values+df_total.iloc[:,3].values)/3\n",
    "\n",
    "\n",
    "use_df=df_total\n",
    "folder_path=\"covid_pred\"+\"/\"+file\n",
    "if not os.path.exists(folder_path):\n",
    "    os.makedirs(folder_path)\n",
    "\n",
    "covid_ct=use_df[use_df[\"total_pred\"]>0.5].name.values\n",
    "non_covid_ct=use_df[use_df[\"total_pred\"]<0.5].name.values\n",
    "\n",
    "covid_df=pd.DataFrame(covid_ct,columns=[\"ct_name\"])\n",
    "\n",
    "non_covid_df=pd.DataFrame(non_covid_ct,columns=[\"ct_name\"])\n",
    "covid_df.sort_values(by=['ct_name'],inplace=True)\n",
    "non_covid_df.sort_values(by=['ct_name'],inplace=True)\n",
    "\n",
    "covid_df.to_csv(f\"{folder_path}/covid.csv\",header=False,index=False)\n",
    "non_covid_df.to_csv(f\"{folder_path}/non-covid.csv\",header=False,index=False)\n",
    "print(\"covid:\",len(covid_df) , \"  non_covid:\",len(non_covid_df))"
   ]
  },
  {
   "cell_type": "code",
   "execution_count": null,
   "id": "11ad1ce2",
   "metadata": {},
   "outputs": [],
   "source": []
  }
 ],
 "metadata": {
  "kernelspec": {
   "display_name": "Python 3",
   "language": "python",
   "name": "python3"
  },
  "language_info": {
   "codemirror_mode": {
    "name": "ipython",
    "version": 3
   },
   "file_extension": ".py",
   "mimetype": "text/x-python",
   "name": "python",
   "nbconvert_exporter": "python",
   "pygments_lexer": "ipython3",
   "version": "3.7.11"
  }
 },
 "nbformat": 4,
 "nbformat_minor": 5
}
