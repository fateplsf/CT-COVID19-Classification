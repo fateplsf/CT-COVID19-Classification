{
 "cells": [
  {
   "cell_type": "code",
   "execution_count": 1,
   "id": "133ee69b",
   "metadata": {},
   "outputs": [],
   "source": [
    "import os\n",
    "import gc\n",
    "import cv2\n",
    "import math\n",
    "import copy\n",
    "import time\n",
    "import random\n",
    "\n",
    "# For data manipulation\n",
    "import numpy as np\n",
    "import pandas as pd\n",
    "\n",
    "# Pytorch Imports\n",
    "import torch\n",
    "import torch.nn as nn\n",
    "import torch.optim as optim\n",
    "import torch.nn.functional as F\n",
    "from torch.optim import lr_scheduler\n",
    "from torch.utils.data import Dataset, DataLoader\n",
    "from torch.cuda import amp\n",
    "\n",
    "# Albumentations for augmentations\n",
    "import albumentations as A\n",
    "from albumentations.pytorch import ToTensorV2\n",
    "\n",
    "\n",
    "from sklearn.metrics import f1_score,roc_auc_score\n",
    "\n",
    "\n",
    "import timm\n",
    "from timm.models.efficientnet import *\n",
    "\n",
    "# Utils\n",
    "import joblib\n",
    "from tqdm import tqdm\n",
    "from collections import defaultdict\n",
    "\n",
    "\n",
    "import warnings\n",
    "warnings.filterwarnings(\"ignore\")\n",
    "\n",
    "from sklearn.metrics import f1_score\n",
    "import matplotlib.pyplot as plt\n",
    "import scipy\n",
    "from scipy import ndimage\n",
    "\n",
    "import glob"
   ]
  },
  {
   "cell_type": "code",
   "execution_count": 2,
   "id": "4956518e",
   "metadata": {},
   "outputs": [],
   "source": [
    "test_ct_all_list=list(glob.glob(\"work_test/test_crop/*/*\")) "
   ]
  },
  {
   "cell_type": "code",
   "execution_count": 3,
   "id": "0128396d",
   "metadata": {},
   "outputs": [
    {
     "data": {
      "text/plain": [
       "834"
      ]
     },
     "execution_count": 3,
     "metadata": {},
     "output_type": "execute_result"
    }
   ],
   "source": [
    "len(test_ct_all_list)"
   ]
  },
  {
   "cell_type": "code",
   "execution_count": 4,
   "id": "f0383d7c",
   "metadata": {},
   "outputs": [
    {
     "name": "stderr",
     "output_type": "stream",
     "text": [
      "100%|██████████| 834/834 [00:06<00:00, 119.44it/s]\n"
     ]
    }
   ],
   "source": [
    "test_area=[]\n",
    "for path in tqdm(test_ct_all_list):\n",
    "    img = cv2.imread(path)\n",
    "    img2=ndimage.minimum_filter(img,5)\n",
    "    img_b=np.where(img2<100,0,255)\n",
    "    mask=scipy.ndimage.binary_fill_holes(img_b[:,:,0])\n",
    "    mask_=mask*255\n",
    "    aaa=mask_-img_b[:,:,0]\n",
    "    test_area.append(aaa.sum()/255)"
   ]
  },
  {
   "cell_type": "code",
   "execution_count": 5,
   "id": "276b7cde",
   "metadata": {},
   "outputs": [],
   "source": [
    "test_area_df=pd.DataFrame((zip(test_ct_all_list, test_area)), columns = ['path', 'area'])"
   ]
  },
  {
   "cell_type": "code",
   "execution_count": 6,
   "id": "f24d07b1",
   "metadata": {},
   "outputs": [
    {
     "data": {
      "text/html": [
       "<div>\n",
       "<style scoped>\n",
       "    .dataframe tbody tr th:only-of-type {\n",
       "        vertical-align: middle;\n",
       "    }\n",
       "\n",
       "    .dataframe tbody tr th {\n",
       "        vertical-align: top;\n",
       "    }\n",
       "\n",
       "    .dataframe thead th {\n",
       "        text-align: right;\n",
       "    }\n",
       "</style>\n",
       "<table border=\"1\" class=\"dataframe\">\n",
       "  <thead>\n",
       "    <tr style=\"text-align: right;\">\n",
       "      <th></th>\n",
       "      <th>path</th>\n",
       "      <th>area</th>\n",
       "    </tr>\n",
       "  </thead>\n",
       "  <tbody>\n",
       "    <tr>\n",
       "      <th>0</th>\n",
       "      <td>work_test/test_crop/ct_scan_1122/73.jpg</td>\n",
       "      <td>38916.0</td>\n",
       "    </tr>\n",
       "    <tr>\n",
       "      <th>1</th>\n",
       "      <td>work_test/test_crop/ct_scan_1122/29.jpg</td>\n",
       "      <td>16260.0</td>\n",
       "    </tr>\n",
       "    <tr>\n",
       "      <th>2</th>\n",
       "      <td>work_test/test_crop/ct_scan_1122/4.jpg</td>\n",
       "      <td>373.0</td>\n",
       "    </tr>\n",
       "    <tr>\n",
       "      <th>3</th>\n",
       "      <td>work_test/test_crop/ct_scan_1122/101.jpg</td>\n",
       "      <td>2234.0</td>\n",
       "    </tr>\n",
       "    <tr>\n",
       "      <th>4</th>\n",
       "      <td>work_test/test_crop/ct_scan_1122/23.jpg</td>\n",
       "      <td>7479.0</td>\n",
       "    </tr>\n",
       "    <tr>\n",
       "      <th>...</th>\n",
       "      <td>...</td>\n",
       "      <td>...</td>\n",
       "    </tr>\n",
       "    <tr>\n",
       "      <th>829</th>\n",
       "      <td>work_test/test_crop/ct_scan_1654/18.jpg</td>\n",
       "      <td>45279.0</td>\n",
       "    </tr>\n",
       "    <tr>\n",
       "      <th>830</th>\n",
       "      <td>work_test/test_crop/ct_scan_1654/37.jpg</td>\n",
       "      <td>16290.0</td>\n",
       "    </tr>\n",
       "    <tr>\n",
       "      <th>831</th>\n",
       "      <td>work_test/test_crop/ct_scan_1654/13.jpg</td>\n",
       "      <td>38931.0</td>\n",
       "    </tr>\n",
       "    <tr>\n",
       "      <th>832</th>\n",
       "      <td>work_test/test_crop/ct_scan_1654/25.jpg</td>\n",
       "      <td>44657.0</td>\n",
       "    </tr>\n",
       "    <tr>\n",
       "      <th>833</th>\n",
       "      <td>work_test/test_crop/ct_scan_1654/12.jpg</td>\n",
       "      <td>36834.0</td>\n",
       "    </tr>\n",
       "  </tbody>\n",
       "</table>\n",
       "<p>834 rows × 2 columns</p>\n",
       "</div>"
      ],
      "text/plain": [
       "                                         path     area\n",
       "0     work_test/test_crop/ct_scan_1122/73.jpg  38916.0\n",
       "1     work_test/test_crop/ct_scan_1122/29.jpg  16260.0\n",
       "2      work_test/test_crop/ct_scan_1122/4.jpg    373.0\n",
       "3    work_test/test_crop/ct_scan_1122/101.jpg   2234.0\n",
       "4     work_test/test_crop/ct_scan_1122/23.jpg   7479.0\n",
       "..                                        ...      ...\n",
       "829   work_test/test_crop/ct_scan_1654/18.jpg  45279.0\n",
       "830   work_test/test_crop/ct_scan_1654/37.jpg  16290.0\n",
       "831   work_test/test_crop/ct_scan_1654/13.jpg  38931.0\n",
       "832   work_test/test_crop/ct_scan_1654/25.jpg  44657.0\n",
       "833   work_test/test_crop/ct_scan_1654/12.jpg  36834.0\n",
       "\n",
       "[834 rows x 2 columns]"
      ]
     },
     "execution_count": 6,
     "metadata": {},
     "output_type": "execute_result"
    }
   ],
   "source": [
    "test_area_df"
   ]
  },
  {
   "cell_type": "code",
   "execution_count": 7,
   "id": "c8ee0858",
   "metadata": {},
   "outputs": [],
   "source": [
    "test_area_df.to_csv(\"work_test/test_area_df.csv\",index=False)"
   ]
  },
  {
   "cell_type": "code",
   "execution_count": 8,
   "id": "ddb23dba",
   "metadata": {},
   "outputs": [],
   "source": [
    "test_area_df[\"ct_path\"]=test_area_df[\"path\"].apply(lambda x: \"/\".join(x.split(\"/\")[:-1]))\n",
    "test_area_df[\"ct_slice\"]=test_area_df[\"path\"].apply(lambda x: int(x.split(\"/\")[-1].split(\".\")[0]))"
   ]
  },
  {
   "cell_type": "code",
   "execution_count": 9,
   "id": "64f4efee",
   "metadata": {},
   "outputs": [],
   "source": [
    "test_area_df.sort_values(by=['ct_path', 'ct_slice'], inplace=True)"
   ]
  },
  {
   "cell_type": "code",
   "execution_count": 10,
   "id": "6abe5ebc",
   "metadata": {},
   "outputs": [],
   "source": [
    "test_area_df=test_area_df.reset_index(drop=True)"
   ]
  },
  {
   "cell_type": "code",
   "execution_count": 11,
   "id": "2fa2c4f8",
   "metadata": {},
   "outputs": [
    {
     "data": {
      "text/html": [
       "<div>\n",
       "<style scoped>\n",
       "    .dataframe tbody tr th:only-of-type {\n",
       "        vertical-align: middle;\n",
       "    }\n",
       "\n",
       "    .dataframe tbody tr th {\n",
       "        vertical-align: top;\n",
       "    }\n",
       "\n",
       "    .dataframe thead th {\n",
       "        text-align: right;\n",
       "    }\n",
       "</style>\n",
       "<table border=\"1\" class=\"dataframe\">\n",
       "  <thead>\n",
       "    <tr style=\"text-align: right;\">\n",
       "      <th></th>\n",
       "      <th>path</th>\n",
       "      <th>area</th>\n",
       "      <th>ct_path</th>\n",
       "      <th>ct_slice</th>\n",
       "    </tr>\n",
       "  </thead>\n",
       "  <tbody>\n",
       "    <tr>\n",
       "      <th>0</th>\n",
       "      <td>work_test/test_crop/ct_scan_1122/0.jpg</td>\n",
       "      <td>973.0</td>\n",
       "      <td>work_test/test_crop/ct_scan_1122</td>\n",
       "      <td>0</td>\n",
       "    </tr>\n",
       "    <tr>\n",
       "      <th>1</th>\n",
       "      <td>work_test/test_crop/ct_scan_1122/1.jpg</td>\n",
       "      <td>692.0</td>\n",
       "      <td>work_test/test_crop/ct_scan_1122</td>\n",
       "      <td>1</td>\n",
       "    </tr>\n",
       "    <tr>\n",
       "      <th>2</th>\n",
       "      <td>work_test/test_crop/ct_scan_1122/2.jpg</td>\n",
       "      <td>638.0</td>\n",
       "      <td>work_test/test_crop/ct_scan_1122</td>\n",
       "      <td>2</td>\n",
       "    </tr>\n",
       "    <tr>\n",
       "      <th>3</th>\n",
       "      <td>work_test/test_crop/ct_scan_1122/3.jpg</td>\n",
       "      <td>673.0</td>\n",
       "      <td>work_test/test_crop/ct_scan_1122</td>\n",
       "      <td>3</td>\n",
       "    </tr>\n",
       "    <tr>\n",
       "      <th>4</th>\n",
       "      <td>work_test/test_crop/ct_scan_1122/4.jpg</td>\n",
       "      <td>373.0</td>\n",
       "      <td>work_test/test_crop/ct_scan_1122</td>\n",
       "      <td>4</td>\n",
       "    </tr>\n",
       "    <tr>\n",
       "      <th>...</th>\n",
       "      <td>...</td>\n",
       "      <td>...</td>\n",
       "      <td>...</td>\n",
       "      <td>...</td>\n",
       "    </tr>\n",
       "    <tr>\n",
       "      <th>829</th>\n",
       "      <td>work_test/test_crop/ct_scan_690/99.jpg</td>\n",
       "      <td>3488.0</td>\n",
       "      <td>work_test/test_crop/ct_scan_690</td>\n",
       "      <td>99</td>\n",
       "    </tr>\n",
       "    <tr>\n",
       "      <th>830</th>\n",
       "      <td>work_test/test_crop/ct_scan_690/100.jpg</td>\n",
       "      <td>3769.0</td>\n",
       "      <td>work_test/test_crop/ct_scan_690</td>\n",
       "      <td>100</td>\n",
       "    </tr>\n",
       "    <tr>\n",
       "      <th>831</th>\n",
       "      <td>work_test/test_crop/ct_scan_690/101.jpg</td>\n",
       "      <td>3875.0</td>\n",
       "      <td>work_test/test_crop/ct_scan_690</td>\n",
       "      <td>101</td>\n",
       "    </tr>\n",
       "    <tr>\n",
       "      <th>832</th>\n",
       "      <td>work_test/test_crop/ct_scan_690/102.jpg</td>\n",
       "      <td>3779.0</td>\n",
       "      <td>work_test/test_crop/ct_scan_690</td>\n",
       "      <td>102</td>\n",
       "    </tr>\n",
       "    <tr>\n",
       "      <th>833</th>\n",
       "      <td>work_test/test_crop/ct_scan_690/103.jpg</td>\n",
       "      <td>3404.0</td>\n",
       "      <td>work_test/test_crop/ct_scan_690</td>\n",
       "      <td>103</td>\n",
       "    </tr>\n",
       "  </tbody>\n",
       "</table>\n",
       "<p>834 rows × 4 columns</p>\n",
       "</div>"
      ],
      "text/plain": [
       "                                        path    area  \\\n",
       "0     work_test/test_crop/ct_scan_1122/0.jpg   973.0   \n",
       "1     work_test/test_crop/ct_scan_1122/1.jpg   692.0   \n",
       "2     work_test/test_crop/ct_scan_1122/2.jpg   638.0   \n",
       "3     work_test/test_crop/ct_scan_1122/3.jpg   673.0   \n",
       "4     work_test/test_crop/ct_scan_1122/4.jpg   373.0   \n",
       "..                                       ...     ...   \n",
       "829   work_test/test_crop/ct_scan_690/99.jpg  3488.0   \n",
       "830  work_test/test_crop/ct_scan_690/100.jpg  3769.0   \n",
       "831  work_test/test_crop/ct_scan_690/101.jpg  3875.0   \n",
       "832  work_test/test_crop/ct_scan_690/102.jpg  3779.0   \n",
       "833  work_test/test_crop/ct_scan_690/103.jpg  3404.0   \n",
       "\n",
       "                              ct_path  ct_slice  \n",
       "0    work_test/test_crop/ct_scan_1122         0  \n",
       "1    work_test/test_crop/ct_scan_1122         1  \n",
       "2    work_test/test_crop/ct_scan_1122         2  \n",
       "3    work_test/test_crop/ct_scan_1122         3  \n",
       "4    work_test/test_crop/ct_scan_1122         4  \n",
       "..                                ...       ...  \n",
       "829   work_test/test_crop/ct_scan_690        99  \n",
       "830   work_test/test_crop/ct_scan_690       100  \n",
       "831   work_test/test_crop/ct_scan_690       101  \n",
       "832   work_test/test_crop/ct_scan_690       102  \n",
       "833   work_test/test_crop/ct_scan_690       103  \n",
       "\n",
       "[834 rows x 4 columns]"
      ]
     },
     "execution_count": 11,
     "metadata": {},
     "output_type": "execute_result"
    }
   ],
   "source": [
    "test_area_df"
   ]
  },
  {
   "cell_type": "code",
   "execution_count": 12,
   "id": "905d0dbc",
   "metadata": {},
   "outputs": [],
   "source": [
    "def sum_max(a,w=0.4):\n",
    "    l=len(a)\n",
    "    k=int(np.ceil(l*w))\n",
    "    d=0\n",
    "    tmp_max=0\n",
    "    for i in range(l-k+1):\n",
    "        if np.sum(a[i:i+k])>tmp_max:\n",
    "            tmp_max=np.sum(a[i:i+k])\n",
    "            d=i\n",
    "    return d,d+k"
   ]
  },
  {
   "cell_type": "code",
   "execution_count": 13,
   "id": "0b88751a",
   "metadata": {},
   "outputs": [],
   "source": [
    "ct_path_list=test_area_df[\"ct_path\"].unique()"
   ]
  },
  {
   "cell_type": "code",
   "execution_count": 14,
   "id": "69eb08ec",
   "metadata": {},
   "outputs": [
    {
     "name": "stderr",
     "output_type": "stream",
     "text": [
      "100%|██████████| 10/10 [00:00<00:00, 2348.30it/s]\n"
     ]
    }
   ],
   "source": [
    "test_dic={}\n",
    "for i in tqdm(range(len(ct_path_list))):\n",
    "    tmp_df=test_area_df[test_area_df[\"ct_path\"]==ct_path_list[i]].reset_index(drop=True)\n",
    "    test_dic[ct_path_list[i]]=list(sum_max(tmp_df[\"area\"].values,0.5))"
   ]
  },
  {
   "cell_type": "code",
   "execution_count": 15,
   "id": "e215bd42",
   "metadata": {},
   "outputs": [],
   "source": [
    "import pickle\n",
    "with open('work_test/test_dic1_05.pickle', 'wb') as handle:\n",
    "    pickle.dump(test_dic, handle, protocol=pickle.HIGHEST_PROTOCOL)"
   ]
  },
  {
   "cell_type": "code",
   "execution_count": 16,
   "id": "12854454",
   "metadata": {},
   "outputs": [],
   "source": [
    "# ct_path_list=test_area_df[\"ct_path\"].unique()\n",
    "# for i in range(100):\n",
    "    \n",
    "#     tmp_df=test_area_df[test_area_df[\"ct_path\"]==ct_path_list[i]].reset_index(drop=True)\n",
    "#     a,b=test_dic[ct_path_list[i]]\n",
    "#     print(ct_path_list[i])\n",
    "#     plt.plot(tmp_df[\"area\"])\n",
    "#     plt.plot(tmp_df[\"area\"][a:b])\n",
    "#     print(a,b)\n",
    "#     plt.show()"
   ]
  },
  {
   "cell_type": "code",
   "execution_count": null,
   "id": "a3e57587",
   "metadata": {},
   "outputs": [],
   "source": []
  }
 ],
 "metadata": {
  "kernelspec": {
   "display_name": "Python 3",
   "language": "python",
   "name": "python3"
  },
  "language_info": {
   "codemirror_mode": {
    "name": "ipython",
    "version": 3
   },
   "file_extension": ".py",
   "mimetype": "text/x-python",
   "name": "python",
   "nbconvert_exporter": "python",
   "pygments_lexer": "ipython3",
   "version": "3.7.11"
  }
 },
 "nbformat": 4,
 "nbformat_minor": 5
}
