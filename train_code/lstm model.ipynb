{
 "cells": [
  {
   "cell_type": "code",
   "execution_count": 1,
   "id": "3e0bd9b1",
   "metadata": {},
   "outputs": [],
   "source": [
    "import gc\n",
    "import os\n",
    "import random\n",
    "#import wandb\n",
    "import math\n",
    "import copy\n",
    "\n",
    "import numpy as np\n",
    "import pandas as pd\n",
    "\n",
    "from sklearn.model_selection import GroupKFold\n",
    "from tqdm.notebook import tqdm\n",
    "\n",
    "import torch\n",
    "import torch.nn as nn\n",
    "from torch.nn import functional as F\n",
    "from torch.utils.data import Dataset, DataLoader\n",
    "from torch.optim.lr_scheduler import ReduceLROnPlateau\n",
    "\n",
    "from transformers import AdamW\n",
    "from transformers import get_cosine_schedule_with_warmup\n",
    "\n",
    "from sklearn.metrics import f1_score,roc_auc_score"
   ]
  },
  {
   "cell_type": "code",
   "execution_count": 2,
   "id": "590680d5",
   "metadata": {},
   "outputs": [],
   "source": [
    "def set_seed(seed=42):\n",
    "    random.seed(seed)\n",
    "    os.environ[\"PYTHONHASHSEED\"] = str(seed)\n",
    "    np.random.seed(seed)\n",
    "    torch.manual_seed(seed)\n",
    "    torch.cuda.manual_seed(seed)\n",
    "    torch.cuda.manual_seed_all(seed)\n",
    "    torch.backends.cudnn.deterministic = True\n",
    "    torch.backends.cudnn.benchmark = False"
   ]
  },
  {
   "cell_type": "code",
   "execution_count": 3,
   "id": "dc45ae3d",
   "metadata": {},
   "outputs": [],
   "source": [
    "set_seed(seed=42)"
   ]
  },
  {
   "cell_type": "code",
   "execution_count": 4,
   "id": "b5f49e1a",
   "metadata": {},
   "outputs": [],
   "source": [
    "\n",
    "df=pd.read_csv(\"/home/fate/covid19_CT/output/df_224_v2.csv\")"
   ]
  },
  {
   "cell_type": "code",
   "execution_count": 5,
   "id": "71a6adbe",
   "metadata": {},
   "outputs": [
    {
     "data": {
      "text/html": [
       "<div>\n",
       "<style scoped>\n",
       "    .dataframe tbody tr th:only-of-type {\n",
       "        vertical-align: middle;\n",
       "    }\n",
       "\n",
       "    .dataframe tbody tr th {\n",
       "        vertical-align: top;\n",
       "    }\n",
       "\n",
       "    .dataframe thead th {\n",
       "        text-align: right;\n",
       "    }\n",
       "</style>\n",
       "<table border=\"1\" class=\"dataframe\">\n",
       "  <thead>\n",
       "    <tr style=\"text-align: right;\">\n",
       "      <th></th>\n",
       "      <th>path</th>\n",
       "      <th>embed</th>\n",
       "      <th>split</th>\n",
       "      <th>label</th>\n",
       "      <th>ct_path</th>\n",
       "      <th>ct_slice</th>\n",
       "      <th>ct_len</th>\n",
       "    </tr>\n",
       "  </thead>\n",
       "  <tbody>\n",
       "    <tr>\n",
       "      <th>0</th>\n",
       "      <td>/home/fate/covid19_CT/input/train_pure_crop/co...</td>\n",
       "      <td>[ 1.14589073e-02 -9.61555656e-07  6.51998341e-...</td>\n",
       "      <td>train</td>\n",
       "      <td>1</td>\n",
       "      <td>/home/fate/covid19_CT/input/train_pure_crop/co...</td>\n",
       "      <td>0</td>\n",
       "      <td>247</td>\n",
       "    </tr>\n",
       "    <tr>\n",
       "      <th>1</th>\n",
       "      <td>/home/fate/covid19_CT/input/train_pure_crop/co...</td>\n",
       "      <td>[ 1.2717491e-02 -9.9315776e-07  7.3297793e-01 ...</td>\n",
       "      <td>train</td>\n",
       "      <td>1</td>\n",
       "      <td>/home/fate/covid19_CT/input/train_pure_crop/co...</td>\n",
       "      <td>1</td>\n",
       "      <td>247</td>\n",
       "    </tr>\n",
       "    <tr>\n",
       "      <th>2</th>\n",
       "      <td>/home/fate/covid19_CT/input/train_pure_crop/co...</td>\n",
       "      <td>[ 1.23448148e-02 -9.46207706e-07  7.25499094e-...</td>\n",
       "      <td>train</td>\n",
       "      <td>1</td>\n",
       "      <td>/home/fate/covid19_CT/input/train_pure_crop/co...</td>\n",
       "      <td>2</td>\n",
       "      <td>247</td>\n",
       "    </tr>\n",
       "    <tr>\n",
       "      <th>3</th>\n",
       "      <td>/home/fate/covid19_CT/input/train_pure_crop/co...</td>\n",
       "      <td>[ 1.05626313e-02 -7.19927925e-07  6.25274718e-...</td>\n",
       "      <td>train</td>\n",
       "      <td>1</td>\n",
       "      <td>/home/fate/covid19_CT/input/train_pure_crop/co...</td>\n",
       "      <td>3</td>\n",
       "      <td>247</td>\n",
       "    </tr>\n",
       "    <tr>\n",
       "      <th>4</th>\n",
       "      <td>/home/fate/covid19_CT/input/train_pure_crop/co...</td>\n",
       "      <td>[ 1.07890451e-02 -7.35935487e-07  6.57803416e-...</td>\n",
       "      <td>train</td>\n",
       "      <td>1</td>\n",
       "      <td>/home/fate/covid19_CT/input/train_pure_crop/co...</td>\n",
       "      <td>4</td>\n",
       "      <td>247</td>\n",
       "    </tr>\n",
       "  </tbody>\n",
       "</table>\n",
       "</div>"
      ],
      "text/plain": [
       "                                                path  \\\n",
       "0  /home/fate/covid19_CT/input/train_pure_crop/co...   \n",
       "1  /home/fate/covid19_CT/input/train_pure_crop/co...   \n",
       "2  /home/fate/covid19_CT/input/train_pure_crop/co...   \n",
       "3  /home/fate/covid19_CT/input/train_pure_crop/co...   \n",
       "4  /home/fate/covid19_CT/input/train_pure_crop/co...   \n",
       "\n",
       "                                               embed  split  label  \\\n",
       "0  [ 1.14589073e-02 -9.61555656e-07  6.51998341e-...  train      1   \n",
       "1  [ 1.2717491e-02 -9.9315776e-07  7.3297793e-01 ...  train      1   \n",
       "2  [ 1.23448148e-02 -9.46207706e-07  7.25499094e-...  train      1   \n",
       "3  [ 1.05626313e-02 -7.19927925e-07  6.25274718e-...  train      1   \n",
       "4  [ 1.07890451e-02 -7.35935487e-07  6.57803416e-...  train      1   \n",
       "\n",
       "                                             ct_path  ct_slice  ct_len  \n",
       "0  /home/fate/covid19_CT/input/train_pure_crop/co...         0     247  \n",
       "1  /home/fate/covid19_CT/input/train_pure_crop/co...         1     247  \n",
       "2  /home/fate/covid19_CT/input/train_pure_crop/co...         2     247  \n",
       "3  /home/fate/covid19_CT/input/train_pure_crop/co...         3     247  \n",
       "4  /home/fate/covid19_CT/input/train_pure_crop/co...         4     247  "
      ]
     },
     "execution_count": 5,
     "metadata": {},
     "output_type": "execute_result"
    }
   ],
   "source": [
    "df.head()"
   ]
  },
  {
   "cell_type": "code",
   "execution_count": 7,
   "id": "458e5eae",
   "metadata": {},
   "outputs": [],
   "source": [
    "def array_convert(string):\n",
    "\n",
    "    A = string.replace('[', '').replace(']', '').replace('\\n', '').split(' ')\n",
    "    new_array = np.array([float(x) for x in A if len(x) > 0])\n",
    "\n",
    "    return new_array"
   ]
  },
  {
   "cell_type": "code",
   "execution_count": 8,
   "id": "54055f37",
   "metadata": {},
   "outputs": [],
   "source": [
    "df['embed'] = df['embed'].apply(array_convert)"
   ]
  },
  {
   "cell_type": "code",
   "execution_count": 10,
   "id": "62654f0d",
   "metadata": {},
   "outputs": [],
   "source": [
    "ct_name=df[\"ct_path\"].unique()"
   ]
  },
  {
   "cell_type": "code",
   "execution_count": 11,
   "id": "d1f8bcfe",
   "metadata": {},
   "outputs": [],
   "source": [
    "label_dic={}\n",
    "for name in ct_name:\n",
    "    tmp_label=df[df[\"ct_path\"]==name].label.values[0]\n",
    "    label_dic[name]=tmp_label"
   ]
  },
  {
   "cell_type": "code",
   "execution_count": 12,
   "id": "1a63b12a",
   "metadata": {},
   "outputs": [
    {
     "data": {
      "text/plain": [
       "2474"
      ]
     },
     "execution_count": 12,
     "metadata": {},
     "output_type": "execute_result"
    }
   ],
   "source": [
    "len(label_dic)"
   ]
  },
  {
   "cell_type": "code",
   "execution_count": null,
   "id": "fe9f30ae",
   "metadata": {},
   "outputs": [],
   "source": []
  },
  {
   "cell_type": "code",
   "execution_count": 13,
   "id": "2ec8ed99",
   "metadata": {},
   "outputs": [],
   "source": [
    "class config:\n",
    "\n",
    "    SEED = 0\n",
    "    \n",
    "    LR = 3e-5 \n",
    "    N_EPOCHS = 50\n",
    "    ct_len=120\n",
    "\n",
    "    HIDDEN_SIZE = 128\n",
    "    BS = 32\n",
    "    WEIGHT_DECAY = 1e-3"
   ]
  },
  {
   "cell_type": "code",
   "execution_count": null,
   "id": "70e03dd7",
   "metadata": {},
   "outputs": [],
   "source": []
  },
  {
   "cell_type": "code",
   "execution_count": 14,
   "id": "dfc8f0c4",
   "metadata": {},
   "outputs": [],
   "source": [
    "class Covid19Dataset(torch.utils.data.Dataset):\n",
    "    \n",
    "    def __init__(self, df,label_dic):\n",
    "        self.df=df\n",
    "        self.dfs = [_df for _, _df in self.df.groupby(\"ct_path\")]\n",
    "        self.label_dic = label_dic\n",
    "\n",
    "    def __getitem__(self, index):\n",
    "\n",
    "\n",
    "        tmp_df = self.dfs[index]\n",
    "        ct_name=tmp_df.ct_path.values[0]\n",
    "        label=label_dic[ct_name]\n",
    "\n",
    "        random.seed(4019)\n",
    "        if len(tmp_df) >= config.ct_len:\n",
    "            \n",
    "            temp_index = [x for x in range(len(tmp_df))]\n",
    "            target_index = random.sample(temp_index, k = config.ct_len)\n",
    "\n",
    "        elif len(tmp_df) < config.ct_len:\n",
    "            target_index = [x for x in range(len(tmp_df))]\n",
    "            temp = random.choices(target_index, k = config.ct_len - len(target_index))\n",
    "            target_index += temp\n",
    "            \n",
    "        target_index_sort=sorted(target_index)\n",
    "        \n",
    "        embed = tmp_df.iloc[target_index_sort, 1].values\n",
    "        img = np.array([])\n",
    "        img_list=[]\n",
    "\n",
    "        for i_embed in embed:\n",
    "            img_list.append(i_embed.reshape(1,-1))\n",
    "            \n",
    "        img=np.concatenate(img_list,axis=0)\n",
    "        if img.shape!=(config.ct_len,224):\n",
    "            print(img.shape)\n",
    "\n",
    "        \n",
    "        d = {\n",
    "            \"X\": torch.tensor(img).float(),\n",
    "            \"y\" : torch.tensor(label).long(),\n",
    "\n",
    "        }\n",
    "        \n",
    "        return d\n",
    "\n",
    "    def __len__(self):\n",
    "        return len(self.dfs)"
   ]
  },
  {
   "cell_type": "code",
   "execution_count": 15,
   "id": "dd4158ab",
   "metadata": {},
   "outputs": [],
   "source": [
    "def loss_fn(outputs, labels):\n",
    "    return nn.BCEWithLogitsLoss()(outputs, labels)"
   ]
  },
  {
   "cell_type": "code",
   "execution_count": 16,
   "id": "8809cb20",
   "metadata": {},
   "outputs": [],
   "source": [
    "class Covid19Model(nn.Module):\n",
    "    \n",
    "    def __init__(self):\n",
    "        super(Covid19Model, self).__init__()\n",
    "\n",
    "        \n",
    "        self.lstm = nn.LSTM(224, config.HIDDEN_SIZE, batch_first=True, bidirectional=True, dropout=0.0, num_layers=4)\n",
    "        self.dropout1 = nn.Dropout(0.1)\n",
    "        self.dropout2 = nn.Dropout(0.15)\n",
    "        self.head = nn.Sequential(\n",
    "            nn.Linear(config.HIDDEN_SIZE * 2, config.HIDDEN_SIZE//2 ),\n",
    "            nn.LayerNorm(config.HIDDEN_SIZE//2 ),\n",
    "            nn.ReLU(),\n",
    "        \n",
    "        )\n",
    "        self.head2=nn.Linear(config.HIDDEN_SIZE//2 , 1)\n",
    "\n",
    "\n",
    "    def forward(self, X, y):\n",
    "\n",
    "\n",
    "        _,(hidden_state,_) = self.lstm(X, None) \n",
    "        hidden = torch.cat((hidden_state[-2,:,:], hidden_state[-1,:,:]), dim = 1)\n",
    "        out = self.dropout1(hidden)\n",
    "        logits = self.head(out)\n",
    "        logits=self.dropout2(logits)\n",
    "        logits=self.head2(logits)\n",
    "\n",
    "\n",
    "            \n",
    "        return logits\n",
    "    "
   ]
  },
  {
   "cell_type": "code",
   "execution_count": 17,
   "id": "6a6619d7",
   "metadata": {},
   "outputs": [],
   "source": [
    "def train_loop(model, optimizer, scheduler, loader):\n",
    "    losses, lrs = [], []\n",
    "    model.train()\n",
    "    optimizer.zero_grad()\n",
    "    for d in loader:\n",
    "        out = model(d['X'].to(device),d['y'].to(device))\n",
    "\n",
    "        loss = loss_fn(out.view(-1),d['y'].to(device,dtype=torch.float))\n",
    "        \n",
    "        losses.append(loss.item())\n",
    "        step_lr = np.array([param_group[\"lr\"] for param_group in optimizer.param_groups]).mean()\n",
    "        lrs.append(step_lr)\n",
    "        \n",
    "        loss.backward()\n",
    "        optimizer.step()\n",
    "        optimizer.zero_grad()\n",
    "        scheduler.step()\n",
    "\n",
    "    return np.array(losses).mean(), np.array(lrs).mean()\n",
    "\n",
    "\n",
    "def valid_loop(model, loader):\n",
    "    losses, predicts = [], []\n",
    "    true_y=[]\n",
    "    pred_y=[]\n",
    "    model.eval()\n",
    "    for d in loader:\n",
    "        with torch.no_grad():\n",
    "            images = d['X'].to(device, dtype=torch.float)\n",
    "            labels = d['y'].to(device, dtype=torch.float)\n",
    "            out = model(images, labels)\n",
    "            loss = loss_fn(out.view(-1),labels)\n",
    "        losses.append(loss.item())\n",
    "        predicts.append(out.cpu())\n",
    "        true_y.append(labels.cpu().numpy())\n",
    "        pred_y.append(torch.sigmoid(out).cpu().numpy())\n",
    "        \n",
    "    true_y=np.concatenate(true_y)\n",
    "    pred_y=np.concatenate(pred_y)\n",
    "    \n",
    "    gc.collect()\n",
    "    \n",
    "    true_y=np.array(true_y).reshape(-1,1)\n",
    "    pred_y=np.array(pred_y).reshape(-1,1)\n",
    "   \n",
    "    acc_f1=f1_score(np.array(true_y),np.round(pred_y),average='macro')\n",
    "\n",
    "    auc_roc=roc_auc_score(np.array(true_y),np.array(pred_y))\n",
    "    print(\"acc_f1 : \",round(acc_f1,4),\"  auc_roc : \",round(auc_roc,4))\n",
    "    \n",
    "    return np.array(losses).mean(),acc_f1,auc_roc\n",
    "\n"
   ]
  },
  {
   "cell_type": "code",
   "execution_count": null,
   "id": "b59fd52d",
   "metadata": {},
   "outputs": [],
   "source": []
  },
  {
   "cell_type": "code",
   "execution_count": 18,
   "id": "4c222a5e",
   "metadata": {},
   "outputs": [],
   "source": [
    "train_df=df[df[\"split\"]==\"train\"].reset_index(drop=True)\n",
    "valid_df=df[df[\"split\"]==\"valid\"].reset_index(drop=True)\n",
    "\n",
    "\n",
    "train_dset = Covid19Dataset(train_df, label_dic)\n",
    "valid_dset = Covid19Dataset(valid_df, label_dic)\n",
    "\n",
    "set_seed()\n",
    "train_loader = DataLoader(train_dset, batch_size=config.BS,\n",
    "                          pin_memory=True, shuffle=True, drop_last=True, num_workers=8,\n",
    "                          worker_init_fn=lambda x: set_seed())\n",
    "valid_loader = DataLoader(valid_dset, batch_size=config.BS,\n",
    "                          pin_memory=True, shuffle=False, drop_last=False, num_workers=8)"
   ]
  },
  {
   "cell_type": "code",
   "execution_count": null,
   "id": "801242a5",
   "metadata": {},
   "outputs": [],
   "source": []
  },
  {
   "cell_type": "code",
   "execution_count": 19,
   "id": "14e72f8d",
   "metadata": {},
   "outputs": [],
   "source": [
    "\n",
    "device = torch.device(\"cuda\")"
   ]
  },
  {
   "cell_type": "code",
   "execution_count": 20,
   "id": "bbb29904",
   "metadata": {},
   "outputs": [
    {
     "data": {
      "text/plain": [
       "Covid19Model(\n",
       "  (lstm): LSTM(224, 128, num_layers=4, batch_first=True, bidirectional=True)\n",
       "  (dropout1): Dropout(p=0.1, inplace=False)\n",
       "  (dropout2): Dropout(p=0.15, inplace=False)\n",
       "  (head): Sequential(\n",
       "    (0): Linear(in_features=256, out_features=64, bias=True)\n",
       "    (1): LayerNorm((64,), eps=1e-05, elementwise_affine=True)\n",
       "    (2): ReLU()\n",
       "  )\n",
       "  (head2): Linear(in_features=64, out_features=1, bias=True)\n",
       ")"
      ]
     },
     "execution_count": 20,
     "metadata": {},
     "output_type": "execute_result"
    }
   ],
   "source": [
    "model = Covid19Model()\n",
    "model.to(device)"
   ]
  },
  {
   "cell_type": "code",
   "execution_count": null,
   "id": "63063940",
   "metadata": {},
   "outputs": [],
   "source": []
  },
  {
   "cell_type": "code",
   "execution_count": 21,
   "id": "ab3d7524",
   "metadata": {},
   "outputs": [],
   "source": [
    "def main():\n",
    "    \n",
    "\n",
    "\n",
    "\n",
    "    optimizer = AdamW(model.parameters(), lr=config.LR, weight_decay=config.WEIGHT_DECAY)\n",
    "    num_train_steps = int(len(train_loader) * config.N_EPOCHS)\n",
    "    num_warmup_steps = int(num_train_steps / 10)\n",
    "    scheduler = get_cosine_schedule_with_warmup(optimizer, num_warmup_steps=num_warmup_steps, num_training_steps=num_train_steps)\n",
    "\n",
    "\n",
    "\n",
    "    model_path1 = \"/home/fate/covid19_CT/model/lstm/f1_best_model.bin\"\n",
    "\n",
    "    best_epoch_f1 = 0\n",
    "    for epoch in tqdm(range(config.N_EPOCHS)):\n",
    "        train_loss, lrs = train_loop(model, optimizer, scheduler, train_loader)\n",
    "        valid_loss,acc_f1,auc_roc = valid_loop(model, valid_loader)\n",
    "\n",
    "        if acc_f1 > best_epoch_f1:\n",
    "            print(f\"Validation f1 Improved ({best_epoch_f1} ---> {acc_f1})\")\n",
    "            best_epoch_f1 = acc_f1\n",
    "            #run.summary[\"Best Loss\"] = best_epoch_loss\n",
    "            best_model_wts = copy.deepcopy(model.state_dict())\n",
    "            PATH = model_path1\n",
    "            torch.save(model.state_dict(), PATH)\n",
    "            # Save a model file from the current directory\n",
    "            print(f\"Model Saved\")\n",
    "    torch.cuda.empty_cache()\n",
    "    gc.collect()\n",
    "    print(best_epoch_f1)"
   ]
  },
  {
   "cell_type": "code",
   "execution_count": null,
   "id": "da83c359",
   "metadata": {},
   "outputs": [],
   "source": [
    "if __name__ == \"__main__\":\n",
    "    main()"
   ]
  },
  {
   "cell_type": "code",
   "execution_count": 23,
   "id": "74e8dc50",
   "metadata": {},
   "outputs": [],
   "source": [
    "def valid_one(model, loader):\n",
    "    losses, predicts = [], []\n",
    "    true_y=[]\n",
    "    pred_y=[]\n",
    "    model.eval()\n",
    "    for d in loader:\n",
    "        with torch.no_grad():\n",
    "            images = d['X'].to(device, dtype=torch.float)\n",
    "            labels = d['y'].to(device, dtype=torch.float)\n",
    "            out = model(images, labels)\n",
    "            loss = loss_fn(out.view(-1),labels)\n",
    "        losses.append(loss.item())\n",
    "        predicts.append(out.cpu())\n",
    "        true_y.append(labels.cpu().numpy())\n",
    "        pred_y.append(torch.sigmoid(out).cpu().numpy())\n",
    "        \n",
    "    true_y=np.concatenate(true_y)\n",
    "    pred_y=np.concatenate(pred_y)\n",
    "    \n",
    "    gc.collect()\n",
    "    \n",
    "    true_y=np.array(true_y).reshape(-1,1)\n",
    "    pred_y=np.array(pred_y).reshape(-1,1)\n",
    "   \n",
    "\n",
    "    return true_y,pred_y"
   ]
  },
  {
   "cell_type": "code",
   "execution_count": null,
   "id": "3f1eb6f6",
   "metadata": {},
   "outputs": [],
   "source": []
  },
  {
   "cell_type": "code",
   "execution_count": 31,
   "id": "f456f796",
   "metadata": {},
   "outputs": [],
   "source": [
    "valid_loader = DataLoader(valid_dset, batch_size=config.BS,\n",
    "                          pin_memory=True, shuffle=False, drop_last=False, num_workers=8)\n"
   ]
  },
  {
   "cell_type": "code",
   "execution_count": 32,
   "id": "ab39ae2b",
   "metadata": {},
   "outputs": [],
   "source": [
    "\n",
    "pred_path=\"/home/fate/covid19_CT/model/lstm/f1_best_model.bin\"\n",
    "model.load_state_dict(torch.load(pred_path))\n",
    "model.to(device);"
   ]
  },
  {
   "cell_type": "code",
   "execution_count": 33,
   "id": "b6954e37",
   "metadata": {},
   "outputs": [],
   "source": [
    "true_y,pred_y=valid_one(model,valid_loader)"
   ]
  },
  {
   "cell_type": "code",
   "execution_count": 34,
   "id": "4516c26a",
   "metadata": {},
   "outputs": [
    {
     "name": "stdout",
     "output_type": "stream",
     "text": [
      "0.9326315789473684\n"
     ]
    }
   ],
   "source": [
    "acc_f1=f1_score(np.array(true_y),np.round(pred_y),average='macro')\n",
    "print(acc_f1)"
   ]
  },
  {
   "cell_type": "code",
   "execution_count": 35,
   "id": "d4100dff",
   "metadata": {},
   "outputs": [
    {
     "name": "stdout",
     "output_type": "stream",
     "text": [
      "pos: 0.9\n",
      "neg: 0.9598540145985401\n"
     ]
    }
   ],
   "source": [
    "from sklearn.metrics import accuracy_score\n",
    "print(\"pos:\",accuracy_score(np.array(true_y[:210]),np.round(pred_y[:210])))\n",
    "print(\"neg:\",accuracy_score(np.array(true_y[210:]),np.round(pred_y[210:])))"
   ]
  },
  {
   "cell_type": "code",
   "execution_count": null,
   "id": "bf89fd1e",
   "metadata": {},
   "outputs": [],
   "source": []
  }
 ],
 "metadata": {
  "kernelspec": {
   "display_name": "Python 3",
   "language": "python",
   "name": "python3"
  },
  "language_info": {
   "codemirror_mode": {
    "name": "ipython",
    "version": 3
   },
   "file_extension": ".py",
   "mimetype": "text/x-python",
   "name": "python",
   "nbconvert_exporter": "python",
   "pygments_lexer": "ipython3",
   "version": "3.7.11"
  }
 },
 "nbformat": 4,
 "nbformat_minor": 5
}
