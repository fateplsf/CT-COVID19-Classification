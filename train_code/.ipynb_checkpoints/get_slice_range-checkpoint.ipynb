{
 "cells": [
  {
   "cell_type": "code",
   "execution_count": 1,
   "id": "afec99e2",
   "metadata": {},
   "outputs": [],
   "source": [
    "import os\n",
    "import gc\n",
    "import cv2\n",
    "import math\n",
    "import copy\n",
    "import time\n",
    "import random\n",
    "\n",
    "# For data manipulation\n",
    "import numpy as np\n",
    "import pandas as pd\n",
    "\n",
    "# Pytorch Imports\n",
    "import torch\n",
    "import torch.nn as nn\n",
    "import torch.optim as optim\n",
    "import torch.nn.functional as F\n",
    "from torch.optim import lr_scheduler\n",
    "from torch.utils.data import Dataset, DataLoader\n",
    "from torch.cuda import amp\n",
    "\n",
    "# Albumentations for augmentations\n",
    "import albumentations as A\n",
    "from albumentations.pytorch import ToTensorV2\n",
    "\n",
    "\n",
    "from sklearn.metrics import f1_score,roc_auc_score\n",
    "\n",
    "\n",
    "import timm\n",
    "from timm.models.efficientnet import *\n",
    "\n",
    "# Utils\n",
    "import joblib\n",
    "from tqdm import tqdm\n",
    "from collections import defaultdict\n",
    "\n",
    "\n",
    "import warnings\n",
    "warnings.filterwarnings(\"ignore\")\n",
    "\n",
    "from sklearn.metrics import f1_score\n",
    "import matplotlib.pyplot as plt\n",
    "import scipy\n",
    "from scipy import ndimage\n",
    "\n",
    "import glob"
   ]
  },
  {
   "cell_type": "code",
   "execution_count": 2,
   "id": "997e728d",
   "metadata": {},
   "outputs": [],
   "source": [
    "train_ct_all_list=list(glob.glob(r\"/home/fate/covid19_CT/input/train_pure_crop/*/*/*\")) "
   ]
  },
  {
   "cell_type": "code",
   "execution_count": 3,
   "id": "9c131f75",
   "metadata": {},
   "outputs": [
    {
     "data": {
      "text/plain": [
       "433432"
      ]
     },
     "execution_count": 3,
     "metadata": {},
     "output_type": "execute_result"
    }
   ],
   "source": [
    "len(train_ct_all_list)"
   ]
  },
  {
   "cell_type": "code",
   "execution_count": 4,
   "id": "8b487f73",
   "metadata": {},
   "outputs": [],
   "source": [
    "valid_ct_all_list=list(glob.glob(r\"/home/fate/covid19_CT/input/valid_pure_crop/*/*/*\")) "
   ]
  },
  {
   "cell_type": "code",
   "execution_count": 5,
   "id": "f4725e88",
   "metadata": {},
   "outputs": [
    {
     "data": {
      "text/plain": [
       "105359"
      ]
     },
     "execution_count": 5,
     "metadata": {},
     "output_type": "execute_result"
    }
   ],
   "source": [
    "len(valid_ct_all_list)"
   ]
  },
  {
   "cell_type": "code",
   "execution_count": null,
   "id": "393d1867",
   "metadata": {},
   "outputs": [],
   "source": []
  },
  {
   "cell_type": "code",
   "execution_count": 6,
   "id": "81dfea04",
   "metadata": {},
   "outputs": [
    {
     "name": "stderr",
     "output_type": "stream",
     "text": [
      "  0%|          | 1250/433432 [00:12<1:09:55, 103.00it/s]\n"
     ]
    },
    {
     "ename": "KeyboardInterrupt",
     "evalue": "",
     "output_type": "error",
     "traceback": [
      "\u001b[0;31m---------------------------------------------------------------------------\u001b[0m",
      "\u001b[0;31mKeyboardInterrupt\u001b[0m                         Traceback (most recent call last)",
      "\u001b[0;32m<ipython-input-6-6ab49fb92c6e>\u001b[0m in \u001b[0;36m<module>\u001b[0;34m\u001b[0m\n\u001b[1;32m      2\u001b[0m \u001b[0;32mfor\u001b[0m \u001b[0mpath\u001b[0m \u001b[0;32min\u001b[0m \u001b[0mtqdm\u001b[0m\u001b[0;34m(\u001b[0m\u001b[0mtrain_ct_all_list\u001b[0m\u001b[0;34m)\u001b[0m\u001b[0;34m:\u001b[0m\u001b[0;34m\u001b[0m\u001b[0;34m\u001b[0m\u001b[0m\n\u001b[1;32m      3\u001b[0m     \u001b[0mimg\u001b[0m \u001b[0;34m=\u001b[0m \u001b[0mcv2\u001b[0m\u001b[0;34m.\u001b[0m\u001b[0mimread\u001b[0m\u001b[0;34m(\u001b[0m\u001b[0mpath\u001b[0m\u001b[0;34m)\u001b[0m\u001b[0;34m\u001b[0m\u001b[0;34m\u001b[0m\u001b[0m\n\u001b[0;32m----> 4\u001b[0;31m     \u001b[0mimg2\u001b[0m\u001b[0;34m=\u001b[0m\u001b[0mndimage\u001b[0m\u001b[0;34m.\u001b[0m\u001b[0mminimum_filter\u001b[0m\u001b[0;34m(\u001b[0m\u001b[0mimg\u001b[0m\u001b[0;34m,\u001b[0m\u001b[0;36m5\u001b[0m\u001b[0;34m)\u001b[0m\u001b[0;34m\u001b[0m\u001b[0;34m\u001b[0m\u001b[0m\n\u001b[0m\u001b[1;32m      5\u001b[0m     \u001b[0mimg_b\u001b[0m\u001b[0;34m=\u001b[0m\u001b[0mnp\u001b[0m\u001b[0;34m.\u001b[0m\u001b[0mwhere\u001b[0m\u001b[0;34m(\u001b[0m\u001b[0mimg2\u001b[0m\u001b[0;34m<\u001b[0m\u001b[0;36m100\u001b[0m\u001b[0;34m,\u001b[0m\u001b[0;36m0\u001b[0m\u001b[0;34m,\u001b[0m\u001b[0;36m255\u001b[0m\u001b[0;34m)\u001b[0m\u001b[0;34m\u001b[0m\u001b[0;34m\u001b[0m\u001b[0m\n\u001b[1;32m      6\u001b[0m     \u001b[0mmask\u001b[0m\u001b[0;34m=\u001b[0m\u001b[0mscipy\u001b[0m\u001b[0;34m.\u001b[0m\u001b[0mndimage\u001b[0m\u001b[0;34m.\u001b[0m\u001b[0mbinary_fill_holes\u001b[0m\u001b[0;34m(\u001b[0m\u001b[0mimg_b\u001b[0m\u001b[0;34m[\u001b[0m\u001b[0;34m:\u001b[0m\u001b[0;34m,\u001b[0m\u001b[0;34m:\u001b[0m\u001b[0;34m,\u001b[0m\u001b[0;36m0\u001b[0m\u001b[0;34m]\u001b[0m\u001b[0;34m)\u001b[0m\u001b[0;34m\u001b[0m\u001b[0;34m\u001b[0m\u001b[0m\n",
      "\u001b[0;32m~/miniconda3/envs/py3.7/lib/python3.7/site-packages/scipy/ndimage/filters.py\u001b[0m in \u001b[0;36mminimum_filter\u001b[0;34m(input, size, footprint, output, mode, cval, origin)\u001b[0m\n\u001b[1;32m   1196\u001b[0m     \"\"\"\n\u001b[1;32m   1197\u001b[0m     return _min_or_max_filter(input, size, footprint, None, output, mode,\n\u001b[0;32m-> 1198\u001b[0;31m                               cval, origin, 1)\n\u001b[0m\u001b[1;32m   1199\u001b[0m \u001b[0;34m\u001b[0m\u001b[0m\n\u001b[1;32m   1200\u001b[0m \u001b[0;34m\u001b[0m\u001b[0m\n",
      "\u001b[0;32m~/miniconda3/envs/py3.7/lib/python3.7/site-packages/scipy/ndimage/filters.py\u001b[0m in \u001b[0;36m_min_or_max_filter\u001b[0;34m(input, size, footprint, structure, output, mode, cval, origin, minimum)\u001b[0m\n\u001b[1;32m   1126\u001b[0m         \u001b[0;32mif\u001b[0m \u001b[0mlen\u001b[0m\u001b[0;34m(\u001b[0m\u001b[0maxes\u001b[0m\u001b[0;34m)\u001b[0m \u001b[0;34m>\u001b[0m \u001b[0;36m0\u001b[0m\u001b[0;34m:\u001b[0m\u001b[0;34m\u001b[0m\u001b[0;34m\u001b[0m\u001b[0m\n\u001b[1;32m   1127\u001b[0m             \u001b[0;32mfor\u001b[0m \u001b[0maxis\u001b[0m\u001b[0;34m,\u001b[0m \u001b[0msize\u001b[0m\u001b[0;34m,\u001b[0m \u001b[0morigin\u001b[0m\u001b[0;34m,\u001b[0m \u001b[0mmode\u001b[0m \u001b[0;32min\u001b[0m \u001b[0maxes\u001b[0m\u001b[0;34m:\u001b[0m\u001b[0;34m\u001b[0m\u001b[0;34m\u001b[0m\u001b[0m\n\u001b[0;32m-> 1128\u001b[0;31m                 \u001b[0mfilter_\u001b[0m\u001b[0;34m(\u001b[0m\u001b[0minput\u001b[0m\u001b[0;34m,\u001b[0m \u001b[0mint\u001b[0m\u001b[0;34m(\u001b[0m\u001b[0msize\u001b[0m\u001b[0;34m)\u001b[0m\u001b[0;34m,\u001b[0m \u001b[0maxis\u001b[0m\u001b[0;34m,\u001b[0m \u001b[0moutput\u001b[0m\u001b[0;34m,\u001b[0m \u001b[0mmode\u001b[0m\u001b[0;34m,\u001b[0m \u001b[0mcval\u001b[0m\u001b[0;34m,\u001b[0m \u001b[0morigin\u001b[0m\u001b[0;34m)\u001b[0m\u001b[0;34m\u001b[0m\u001b[0;34m\u001b[0m\u001b[0m\n\u001b[0m\u001b[1;32m   1129\u001b[0m                 \u001b[0minput\u001b[0m \u001b[0;34m=\u001b[0m \u001b[0moutput\u001b[0m\u001b[0;34m\u001b[0m\u001b[0;34m\u001b[0m\u001b[0m\n\u001b[1;32m   1130\u001b[0m         \u001b[0;32melse\u001b[0m\u001b[0;34m:\u001b[0m\u001b[0;34m\u001b[0m\u001b[0;34m\u001b[0m\u001b[0m\n",
      "\u001b[0;32m~/miniconda3/envs/py3.7/lib/python3.7/site-packages/scipy/ndimage/filters.py\u001b[0m in \u001b[0;36mminimum_filter1d\u001b[0;34m(input, size, axis, output, mode, cval, origin)\u001b[0m\n\u001b[1;32m   1017\u001b[0m     \u001b[0mmode\u001b[0m \u001b[0;34m=\u001b[0m \u001b[0m_ni_support\u001b[0m\u001b[0;34m.\u001b[0m\u001b[0m_extend_mode_to_code\u001b[0m\u001b[0;34m(\u001b[0m\u001b[0mmode\u001b[0m\u001b[0;34m)\u001b[0m\u001b[0;34m\u001b[0m\u001b[0;34m\u001b[0m\u001b[0m\n\u001b[1;32m   1018\u001b[0m     _nd_image.min_or_max_filter1d(input, size, axis, output, mode, cval,\n\u001b[0;32m-> 1019\u001b[0;31m                                   origin, 1)\n\u001b[0m\u001b[1;32m   1020\u001b[0m     \u001b[0;32mreturn\u001b[0m \u001b[0moutput\u001b[0m\u001b[0;34m\u001b[0m\u001b[0;34m\u001b[0m\u001b[0m\n\u001b[1;32m   1021\u001b[0m \u001b[0;34m\u001b[0m\u001b[0m\n",
      "\u001b[0;31mKeyboardInterrupt\u001b[0m: "
     ]
    }
   ],
   "source": [
    "train_area=[]\n",
    "for path in tqdm(train_ct_all_list):\n",
    "    img = cv2.imread(path)\n",
    "    img2=ndimage.minimum_filter(img,5)\n",
    "    img_b=np.where(img2<100,0,255)\n",
    "    mask=scipy.ndimage.binary_fill_holes(img_b[:,:,0])\n",
    "    mask_=mask*255\n",
    "    aaa=mask_-img_b[:,:,0]\n",
    "    train_area.append(aaa.sum()/255)\n",
    "    "
   ]
  },
  {
   "cell_type": "code",
   "execution_count": null,
   "id": "2d8ed2a8",
   "metadata": {},
   "outputs": [],
   "source": [
    "train_area_df=pd.DataFrame((zip(train_ct_all_list, train_area)), columns = ['path', 'area'])\n",
    "train_area_df_=pd.read_csv(\"/home/fate/covid19_CT/input/train_area_df1.csv\")"
   ]
  },
  {
   "cell_type": "code",
   "execution_count": null,
   "id": "197f1ecf",
   "metadata": {},
   "outputs": [],
   "source": [
    "valid_area=[]\n",
    "for path in tqdm(valid_ct_all_list):\n",
    "    img = cv2.imread(path)\n",
    "    img2=ndimage.minimum_filter(img,5)\n",
    "    img_b=np.where(img2<100,0,255)\n",
    "    mask=scipy.ndimage.binary_fill_holes(img_b[:,:,0])\n",
    "    mask_=mask*255\n",
    "    aaa=mask_-img_b[:,:,0]\n",
    "    valid_area.append(aaa.sum()/255)"
   ]
  },
  {
   "cell_type": "code",
   "execution_count": null,
   "id": "35e0867c",
   "metadata": {},
   "outputs": [],
   "source": [
    "valid_area_df=pd.DataFrame((zip(valid_ct_all_list, valid_area)), columns = ['path', 'area'])"
   ]
  },
  {
   "cell_type": "code",
   "execution_count": null,
   "id": "a438843c",
   "metadata": {},
   "outputs": [],
   "source": [
    "valid_area_df.to_csv(\"/home/fate/covid19_CT/input/valid_area_df1.csv\",index=False)"
   ]
  },
  {
   "cell_type": "code",
   "execution_count": null,
   "id": "08802af8",
   "metadata": {},
   "outputs": [],
   "source": []
  },
  {
   "cell_type": "code",
   "execution_count": null,
   "id": "e200ec82",
   "metadata": {},
   "outputs": [],
   "source": []
  },
  {
   "cell_type": "code",
   "execution_count": null,
   "id": "a6229a97",
   "metadata": {},
   "outputs": [],
   "source": []
  },
  {
   "cell_type": "code",
   "execution_count": 10,
   "id": "04b96562",
   "metadata": {},
   "outputs": [],
   "source": [
    "# train_area_df=pd.read_csv(\"/home/fate/covid19_CT/input/train_area_df1.csv\")\n",
    "# valid_area_df=pd.read_csv(\"/home/fate/covid19_CT/input/valid_area_df1.csv\")"
   ]
  },
  {
   "cell_type": "code",
   "execution_count": 11,
   "id": "c4654f9a",
   "metadata": {},
   "outputs": [],
   "source": [
    "train_area_df[\"ct_path\"]=train_area_df[\"path\"].apply(lambda x: \"/\".join(x.split(\"/\")[:-1]))\n",
    "valid_area_df[\"ct_path\"]=valid_area_df[\"path\"].apply(lambda x: \"/\".join(x.split(\"/\")[:-1]))\n",
    "\n",
    "train_area_df[\"ct_slice\"]=train_area_df[\"path\"].apply(lambda x: int(x.split(\"/\")[-1].split(\".\")[0]))\n",
    "valid_area_df[\"ct_slice\"]=valid_area_df[\"path\"].apply(lambda x: int(x.split(\"/\")[-1].split(\".\")[0]))\n",
    "\n",
    "train_area_df.sort_values(by=['ct_path', 'ct_slice'], inplace=True)\n",
    "valid_area_df.sort_values(by=['ct_path', 'ct_slice'], inplace=True)\n",
    "\n"
   ]
  },
  {
   "cell_type": "code",
   "execution_count": 13,
   "id": "fcfb66d2",
   "metadata": {},
   "outputs": [],
   "source": [
    "def sum_max(a,w=0.4):\n",
    "    l=len(a)\n",
    "    k=int(np.ceil(l*w))\n",
    "    d=0\n",
    "    tmp_max=0\n",
    "    for i in range(l-k+1):\n",
    "        if np.sum(a[i:i+k])>tmp_max:\n",
    "            tmp_max=np.sum(a[i:i+k])\n",
    "            d=i\n",
    "    return d,d+k\n",
    "\n"
   ]
  },
  {
   "cell_type": "code",
   "execution_count": 20,
   "id": "e565e3e5",
   "metadata": {},
   "outputs": [
    {
     "name": "stderr",
     "output_type": "stream",
     "text": [
      "100%|██████████| 1990/1990 [01:04<00:00, 30.86it/s]\n"
     ]
    }
   ],
   "source": [
    "ct_path_list=train_area_df[\"ct_path\"].unique()\n",
    "train_dic={}\n",
    "for i in tqdm(range(len(ct_path_list))):\n",
    "    tmp_df=train_area_df[train_area_df[\"ct_path\"]==ct_path_list[i]].reset_index(drop=True)\n",
    "    train_dic[ct_path_list[i]]=list(sum_max(tmp_df[\"area\"].values,0.5))"
   ]
  },
  {
   "cell_type": "code",
   "execution_count": 16,
   "id": "c32c1cd8",
   "metadata": {},
   "outputs": [
    {
     "name": "stderr",
     "output_type": "stream",
     "text": [
      "100%|██████████| 484/484 [00:02<00:00, 217.76it/s]\n"
     ]
    }
   ],
   "source": [
    "ct_path_list=valid_area_df[\"ct_path\"].unique()\n",
    "valid_dic={}\n",
    "for i in tqdm(range(len(ct_path_list))):\n",
    "    tmp_df=valid_area_df[valid_area_df[\"ct_path\"]==ct_path_list[i]].reset_index(drop=True)\n",
    "    valid_dic[ct_path_list[i]]=list(sum_max(tmp_df[\"area\"].values,0.5))"
   ]
  },
  {
   "cell_type": "code",
   "execution_count": null,
   "id": "3c65643e",
   "metadata": {},
   "outputs": [],
   "source": []
  },
  {
   "cell_type": "code",
   "execution_count": 18,
   "id": "750dc054",
   "metadata": {},
   "outputs": [],
   "source": [
    "import pickle"
   ]
  },
  {
   "cell_type": "code",
   "execution_count": null,
   "id": "bba4248c",
   "metadata": {},
   "outputs": [],
   "source": [
    "with open('/home/fate/covid19_CT/output/train_dic1_05.pickle', 'wb') as handle:\n",
    "    pickle.dump(train_dic, handle, protocol=pickle.HIGHEST_PROTOCOL)"
   ]
  },
  {
   "cell_type": "code",
   "execution_count": null,
   "id": "01a252cd",
   "metadata": {},
   "outputs": [],
   "source": [
    "with open('/home/fate/covid19_CT/output/valid_dic1_05.pickle', 'wb') as handle:\n",
    "    pickle.dump(valid_dic, handle, protocol=pickle.HIGHEST_PROTOCOL)"
   ]
  },
  {
   "cell_type": "code",
   "execution_count": null,
   "id": "0c45d799",
   "metadata": {},
   "outputs": [],
   "source": []
  },
  {
   "cell_type": "code",
   "execution_count": null,
   "id": "3f4d8779",
   "metadata": {},
   "outputs": [],
   "source": []
  }
 ],
 "metadata": {
  "kernelspec": {
   "display_name": "Python 3",
   "language": "python",
   "name": "python3"
  },
  "language_info": {
   "codemirror_mode": {
    "name": "ipython",
    "version": 3
   },
   "file_extension": ".py",
   "mimetype": "text/x-python",
   "name": "python",
   "nbconvert_exporter": "python",
   "pygments_lexer": "ipython3",
   "version": "3.7.11"
  }
 },
 "nbformat": 4,
 "nbformat_minor": 5
}
