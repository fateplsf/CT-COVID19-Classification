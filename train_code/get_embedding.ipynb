{
 "cells": [
  {
   "cell_type": "code",
   "execution_count": 1,
   "id": "ba8f5ce5",
   "metadata": {},
   "outputs": [],
   "source": [
    "import os\n",
    "import gc\n",
    "import cv2\n",
    "import math\n",
    "import copy\n",
    "import time\n",
    "import random\n",
    "\n",
    "# For data manipulation\n",
    "import numpy as np\n",
    "import pandas as pd\n",
    "\n",
    "# Pytorch Imports\n",
    "import torch\n",
    "import torch.nn as nn\n",
    "import torch.optim as optim\n",
    "import torch.nn.functional as F\n",
    "from torch.optim import lr_scheduler\n",
    "from torch.utils.data import Dataset, DataLoader\n",
    "from torch.cuda import amp\n",
    "\n",
    "# Albumentations for augmentations\n",
    "import albumentations as A\n",
    "from albumentations.pytorch import ToTensorV2\n",
    "\n",
    "\n",
    "from sklearn.metrics import f1_score,roc_auc_score\n",
    "\n",
    "\n",
    "import timm\n",
    "from timm.models.efficientnet import *\n",
    "\n",
    "# Utils\n",
    "import joblib\n",
    "from tqdm import tqdm\n",
    "from collections import defaultdict\n",
    "\n",
    "\n",
    "import warnings\n",
    "warnings.filterwarnings(\"ignore\")\n",
    "\n",
    "from sklearn.metrics import f1_score\n",
    "\n",
    "import matplotlib.pyplot as plt\n",
    "import glob"
   ]
  },
  {
   "cell_type": "code",
   "execution_count": 2,
   "id": "ef5cb58c",
   "metadata": {},
   "outputs": [],
   "source": [
    "job=51"
   ]
  },
  {
   "cell_type": "code",
   "execution_count": 3,
   "id": "b42e4f39",
   "metadata": {},
   "outputs": [],
   "source": [
    "tc=\"f1\""
   ]
  },
  {
   "cell_type": "code",
   "execution_count": 4,
   "id": "2fdca74a",
   "metadata": {},
   "outputs": [],
   "source": [
    "train_ct_all_list=list(glob.glob(r\"/home/fate/covid19_CT/input/train_pure_crop/*/*/*\")) "
   ]
  },
  {
   "cell_type": "code",
   "execution_count": 5,
   "id": "4f2432b5",
   "metadata": {},
   "outputs": [
    {
     "data": {
      "text/plain": [
       "433432"
      ]
     },
     "execution_count": 5,
     "metadata": {},
     "output_type": "execute_result"
    }
   ],
   "source": [
    "len(train_ct_all_list)"
   ]
  },
  {
   "cell_type": "code",
   "execution_count": 6,
   "id": "5cacb710",
   "metadata": {},
   "outputs": [],
   "source": [
    "valid_ct_all_list=list(glob.glob(r\"/home/fate/covid19_CT/input/valid_pure_crop/*/*/*\")) "
   ]
  },
  {
   "cell_type": "code",
   "execution_count": null,
   "id": "602ce2d0",
   "metadata": {},
   "outputs": [],
   "source": []
  },
  {
   "cell_type": "code",
   "execution_count": 7,
   "id": "2e8c1be4",
   "metadata": {},
   "outputs": [],
   "source": [
    "all_ct_all_list=train_ct_all_list+valid_ct_all_list"
   ]
  },
  {
   "cell_type": "code",
   "execution_count": 8,
   "id": "d60ee75e",
   "metadata": {},
   "outputs": [],
   "source": [
    "df = pd.DataFrame(all_ct_all_list, columns = ['path'])"
   ]
  },
  {
   "cell_type": "code",
   "execution_count": null,
   "id": "553a0406",
   "metadata": {},
   "outputs": [],
   "source": []
  },
  {
   "cell_type": "code",
   "execution_count": 9,
   "id": "2be5be34",
   "metadata": {},
   "outputs": [],
   "source": [
    "weights_path=f\"/home/fate/covid19_CT/model/{tc}/job_{job}_effnetb3a.bin\""
   ]
  },
  {
   "cell_type": "code",
   "execution_count": 10,
   "id": "3eab6414",
   "metadata": {},
   "outputs": [
    {
     "data": {
      "text/plain": [
       "'/home/fate/covid19_CT/model/f1/job_51_effnetb3a.bin'"
      ]
     },
     "execution_count": 10,
     "metadata": {},
     "output_type": "execute_result"
    }
   ],
   "source": [
    "weights_path"
   ]
  },
  {
   "cell_type": "code",
   "execution_count": 11,
   "id": "251159d5",
   "metadata": {},
   "outputs": [],
   "source": [
    "CONFIG = {\"seed\": 2022,\n",
    "          \"epochs\": 100,  #24\n",
    "          \"img_size\": 256, #512\n",
    "\n",
    "\n",
    "          \"train_batch_size\": 8, #16\n",
    "          \"valid_batch_size\": 32,\n",
    "          \"learning_rate\": 0.0001,\n",
    "          \"scheduler\": 'onecycleLR',\n",
    "          \"min_lr\": 1e-6,\n",
    "          \n",
    "          \"weight_decay\": 0.0005, #1e-6\n",
    "    \n",
    "          \"n_accumulate\": 1, #2\n",
    "          \"device\": torch.device(\"cuda:0\" if torch.cuda.is_available() else \"cpu\"),\n",
    "\n",
    "          #'onecycleLR'\n",
    "          \"pct_start\":0.1,\n",
    "          \"max_lr\":0.000025,\n",
    "          \n",
    "          \n",
    "          \"train_batch\":4,\n",
    "          \n",
    "          }"
   ]
  },
  {
   "cell_type": "code",
   "execution_count": 12,
   "id": "edf9799d",
   "metadata": {},
   "outputs": [],
   "source": [
    "def set_seed(seed=42):\n",
    "    '''Sets the seed of the entire notebook so results are the same every time we run.\n",
    "    This is for REPRODUCIBILITY.'''\n",
    "    np.random.seed(seed)\n",
    "    torch.manual_seed(seed)\n",
    "    torch.cuda.manual_seed(seed)\n",
    "    # When running on the CuDNN backend, two further options must be set\n",
    "    torch.backends.cudnn.deterministic = False\n",
    "    torch.backends.cudnn.benchmark = True\n",
    "    # Set a fixed value for the hash seed\n",
    "    os.environ['PYTHONHASHSEED'] = str(seed)\n",
    "    \n",
    "set_seed()"
   ]
  },
  {
   "cell_type": "code",
   "execution_count": 13,
   "id": "02ca7f58",
   "metadata": {},
   "outputs": [
    {
     "data": {
      "text/plain": [
       "['covid', 'non_covid']"
      ]
     },
     "execution_count": 13,
     "metadata": {},
     "output_type": "execute_result"
    }
   ],
   "source": [
    "os.listdir(\"/home/fate/covid19_CT/input/train\")"
   ]
  },
  {
   "cell_type": "code",
   "execution_count": 14,
   "id": "8b271594",
   "metadata": {},
   "outputs": [],
   "source": [
    "class Covid19Dataset(Dataset):\n",
    "    def __init__(self, df,transforms=None):\n",
    "        self.df = df\n",
    "  \n",
    "        self.path = df['path'].values\n",
    " \n",
    "        self.transforms = transforms\n",
    "        \n",
    "    def __len__(self):\n",
    "        return len(self.df)\n",
    "    \n",
    "    def __getitem__(self, index):\n",
    " \n",
    "\n",
    "        img_path_ = self.path[index]\n",
    "     \n",
    "\n",
    "        img = cv2.imread(img_path_)\n",
    "        try:\n",
    "            img = cv2.cvtColor(img, cv2.COLOR_BGR2RGB)\n",
    "        except:\n",
    "            print(img_path_ )\n",
    "        img = self.transforms(image=img)['image']\n",
    "\n",
    "            \n",
    "\n",
    "        return {\n",
    "            'image': img,\n",
    "\n",
    "            'id' : img_path_ \n",
    "        }\n",
    "            \n",
    "        \n",
    "\n",
    "        \n",
    "        \n",
    "        \n",
    "        \n",
    "        \n"
   ]
  },
  {
   "cell_type": "code",
   "execution_count": 15,
   "id": "c51fa735",
   "metadata": {},
   "outputs": [],
   "source": [
    "data_transforms = {\n",
    "\n",
    "    \n",
    "    \"valid\": A.Compose([\n",
    "        A.Resize(256, 256),\n",
    "\n",
    "        A.Normalize(),\n",
    "        ToTensorV2()], p=1.)\n",
    "}"
   ]
  },
  {
   "cell_type": "code",
   "execution_count": 16,
   "id": "37244f62",
   "metadata": {},
   "outputs": [],
   "source": [
    "def prepare_loaders():\n",
    "\n",
    "\n",
    "  \n",
    "\n",
    "    train_dataset = Covid19Dataset(df, transforms=data_transforms[\"valid\"])\n",
    "\n",
    "\n",
    "    train_loader = DataLoader(train_dataset, batch_size=128, \n",
    "                              num_workers=16, shuffle=False, pin_memory=True)\n",
    "\n",
    "    \n",
    "    return train_loader"
   ]
  },
  {
   "cell_type": "code",
   "execution_count": 17,
   "id": "7e8978f0",
   "metadata": {},
   "outputs": [],
   "source": [
    "class Net(nn.Module):\n",
    "    def __init__(self):\n",
    "        super(Net, self).__init__()\n",
    "\n",
    "        e = efficientnet_b3a(pretrained=True, drop_rate=0.3, drop_path_rate=0.2)\n",
    "        self.b0 = nn.Sequential(\n",
    "            e.conv_stem,\n",
    "            e.bn1,\n",
    "            e.act1,\n",
    "        )\n",
    "        self.b1 = e.blocks[0]\n",
    "        self.b2 = e.blocks[1]\n",
    "        self.b3 = e.blocks[2]\n",
    "        self.b4 = e.blocks[3]\n",
    "        self.b5 = e.blocks[4]\n",
    "        self.b6 = e.blocks[5]\n",
    "        self.b7 = e.blocks[6]\n",
    "        self.b8 = nn.Sequential(\n",
    "            e.conv_head, \n",
    "            e.bn2,\n",
    "            e.act2,\n",
    "        )\n",
    "\n",
    "        \n",
    "        self.emb = nn.Linear(1536,224)\n",
    "        self.logit = nn.Linear(224,1)\n",
    "\n",
    "    def forward(self, image):\n",
    "        batch_size = len(image)\n",
    "        x = 2*image-1     \n",
    "\n",
    "        x = self.b0(x) \n",
    "        x = self.b1(x) \n",
    "        x = self.b2(x) \n",
    "        x = self.b3(x) \n",
    "        x = self.b4(x) \n",
    "        x = self.b5(x) \n",
    "\n",
    "        x = self.b6(x) \n",
    "        x = self.b7(x) \n",
    "        x = self.b8(x) \n",
    "        x = F.adaptive_avg_pool2d(x,1).reshape(batch_size,-1)\n",
    "\n",
    "        x = self.emb(x)\n",
    "        logit = self.logit(x)\n",
    "        \n",
    "        return x\n",
    "\n"
   ]
  },
  {
   "cell_type": "code",
   "execution_count": 18,
   "id": "863d37b0",
   "metadata": {},
   "outputs": [],
   "source": [
    "model=Net()\n",
    "\n",
    "model.load_state_dict(torch.load(weights_path))\n",
    "model=model.cuda()\n"
   ]
  },
  {
   "cell_type": "code",
   "execution_count": 19,
   "id": "e8aa2d45",
   "metadata": {},
   "outputs": [],
   "source": [
    "@torch.inference_mode()\n",
    "def get_embeddings(model, dataloader, device):\n",
    "    model.eval()\n",
    "    \n",
    "    LABELS = []\n",
    "    EMBEDS = []\n",
    "    IDS = []\n",
    "    \n",
    "    bar = tqdm(enumerate(dataloader), total=len(dataloader))\n",
    "    \n",
    "    for step, data in bar:  \n",
    "\n",
    "        \n",
    "    \n",
    "        data_img = data['image']\n",
    "    \n",
    "        images = data_img.to(device, dtype=torch.float)\n",
    "\n",
    "\n",
    "\n",
    "        ids = data['id']\n",
    "\n",
    "        outputs = model(images)\n",
    "        \n",
    "\n",
    "        EMBEDS.append(outputs.cpu().numpy())\n",
    "        IDS.append(ids)\n",
    "    \n",
    "\n",
    "    \n",
    "    return EMBEDS, IDS"
   ]
  },
  {
   "cell_type": "code",
   "execution_count": 20,
   "id": "11b29cfb",
   "metadata": {},
   "outputs": [],
   "source": [
    "train_loader = prepare_loaders()"
   ]
  },
  {
   "cell_type": "code",
   "execution_count": 21,
   "id": "cc4a15c5",
   "metadata": {},
   "outputs": [
    {
     "name": "stderr",
     "output_type": "stream",
     "text": [
      "100%|██████████| 4210/4210 [07:59<00:00,  8.78it/s]\n"
     ]
    }
   ],
   "source": [
    "embed,name=get_embeddings(model,train_loader,CONFIG['device'])"
   ]
  },
  {
   "cell_type": "code",
   "execution_count": 22,
   "id": "4cbab3f8",
   "metadata": {},
   "outputs": [],
   "source": [
    "embed = np.vstack(embed)"
   ]
  },
  {
   "cell_type": "code",
   "execution_count": 23,
   "id": "9f2b850f",
   "metadata": {},
   "outputs": [],
   "source": [
    "name = np.concatenate(name)"
   ]
  },
  {
   "cell_type": "code",
   "execution_count": 24,
   "id": "dba216e3",
   "metadata": {},
   "outputs": [],
   "source": [
    "dict_all=dict(zip(name, embed))"
   ]
  },
  {
   "cell_type": "code",
   "execution_count": 25,
   "id": "f380c062",
   "metadata": {},
   "outputs": [],
   "source": [
    "df_224=pd.DataFrame(list(dict_all.items()),\n",
    "                   columns=['path', 'embed'])"
   ]
  },
  {
   "cell_type": "code",
   "execution_count": 26,
   "id": "59e4977d",
   "metadata": {},
   "outputs": [],
   "source": [
    "df_224[\"split\"]=df_224.path.str.split(\"/\").str[5]"
   ]
  },
  {
   "cell_type": "code",
   "execution_count": 27,
   "id": "63cd5d7c",
   "metadata": {},
   "outputs": [],
   "source": [
    "df_224[\"split\"]=df_224[\"split\"].str.split(\"_\").str[0]"
   ]
  },
  {
   "cell_type": "code",
   "execution_count": 28,
   "id": "9583d7f9",
   "metadata": {},
   "outputs": [],
   "source": [
    "df_224[\"label\"]=df_224.path.str.split(\"/\").str[6]\n",
    "label_map={\"covid\":1,\"non_covid\":0}\n",
    "df_224[\"label\"]=df_224.label.map(label_map)"
   ]
  },
  {
   "cell_type": "code",
   "execution_count": 29,
   "id": "48deee55",
   "metadata": {},
   "outputs": [],
   "source": [
    "df_224[\"ct_path\"]=df_224[\"path\"].apply(lambda x: \"/\".join(x.split(\"/\")[:-1]))\n",
    "df_224[\"ct_slice\"]=df_224[\"path\"].apply(lambda x: int(x.split(\"/\")[-1].split(\".\")[0]))"
   ]
  },
  {
   "cell_type": "code",
   "execution_count": 30,
   "id": "63f6aac5",
   "metadata": {},
   "outputs": [],
   "source": [
    "df_224[\"ct_len\"]=df_224.groupby([\"ct_path\"])[\"ct_slice\"].transform('count')"
   ]
  },
  {
   "cell_type": "code",
   "execution_count": 31,
   "id": "8bd581a0",
   "metadata": {},
   "outputs": [],
   "source": [
    "df_224.sort_values(by=['ct_path', 'ct_slice'], inplace=True)"
   ]
  },
  {
   "cell_type": "code",
   "execution_count": 32,
   "id": "3912e811",
   "metadata": {},
   "outputs": [],
   "source": [
    "df_224=df_224.reset_index(drop=True)"
   ]
  },
  {
   "cell_type": "code",
   "execution_count": 33,
   "id": "662d3d1b",
   "metadata": {},
   "outputs": [],
   "source": [
    "df_224.to_csv(\"/home/fate/covid19_CT/output/df_224_v2.csv\",index=False)"
   ]
  },
  {
   "cell_type": "code",
   "execution_count": null,
   "id": "1110bd1e",
   "metadata": {},
   "outputs": [],
   "source": []
  }
 ],
 "metadata": {
  "kernelspec": {
   "display_name": "Python 3",
   "language": "python",
   "name": "python3"
  },
  "language_info": {
   "codemirror_mode": {
    "name": "ipython",
    "version": 3
   },
   "file_extension": ".py",
   "mimetype": "text/x-python",
   "name": "python",
   "nbconvert_exporter": "python",
   "pygments_lexer": "ipython3",
   "version": "3.7.11"
  }
 },
 "nbformat": 4,
 "nbformat_minor": 5
}
