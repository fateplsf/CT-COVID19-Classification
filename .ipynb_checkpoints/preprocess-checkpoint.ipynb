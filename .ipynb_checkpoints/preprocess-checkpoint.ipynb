{
 "cells": [
  {
   "cell_type": "code",
   "execution_count": 1,
   "id": "264fbe22",
   "metadata": {},
   "outputs": [],
   "source": [
    "test_folder_path=\"/home/fate/covid19_CT/input/test\""
   ]
  },
  {
   "cell_type": "code",
   "execution_count": 2,
   "id": "1e6c749c",
   "metadata": {},
   "outputs": [],
   "source": [
    "import os\n",
    "import gc\n",
    "import cv2\n",
    "import math\n",
    "import copy\n",
    "import time\n",
    "import random\n",
    "import shutil, sys    \n",
    "\n",
    "import glob\n",
    "# For data manipulation\n",
    "import numpy as np\n",
    "import pandas as pd\n",
    "\n",
    "# Pytorch Imports\n",
    "import torch\n",
    "import torch.nn as nn\n",
    "import torch.optim as optim\n",
    "import torch.nn.functional as F\n",
    "from torch.optim import lr_scheduler\n",
    "from torch.utils.data import Dataset, DataLoader\n",
    "from torch.cuda import amp\n",
    "\n",
    "# Albumentations for augmentations\n",
    "import albumentations as A\n",
    "from albumentations.pytorch import ToTensorV2\n",
    "\n",
    "\n",
    "from sklearn.metrics import f1_score,roc_auc_score\n",
    "\n",
    "\n",
    "import timm\n",
    "from timm.models.efficientnet import *\n",
    "\n",
    "# Utils\n",
    "import joblib\n",
    "from tqdm import tqdm\n",
    "from collections import defaultdict\n",
    "\n",
    "\n",
    "import warnings\n",
    "warnings.filterwarnings(\"ignore\")\n",
    "\n",
    "from sklearn.metrics import f1_score\n",
    "\n",
    "import matplotlib.pyplot as plt\n",
    "from scipy import ndimage"
   ]
  },
  {
   "cell_type": "code",
   "execution_count": 3,
   "id": "989efb61",
   "metadata": {},
   "outputs": [],
   "source": [
    "test_ct_list=list(glob.glob(os.path.join(test_folder_path, \"*\"))) "
   ]
  },
  {
   "cell_type": "code",
   "execution_count": 4,
   "id": "7f301dff",
   "metadata": {},
   "outputs": [
    {
     "data": {
      "text/plain": [
       "5281"
      ]
     },
     "execution_count": 4,
     "metadata": {},
     "output_type": "execute_result"
    }
   ],
   "source": [
    "len(test_ct_list)"
   ]
  },
  {
   "cell_type": "code",
   "execution_count": 5,
   "id": "157221a6",
   "metadata": {},
   "outputs": [],
   "source": [
    "# test_ct_list=test_ct_list[-400:-390]   #quick test1\n",
    "# test_ct_list=test_ct_list[-1] #quick test2"
   ]
  },
  {
   "cell_type": "code",
   "execution_count": 6,
   "id": "d8f88c5b",
   "metadata": {},
   "outputs": [
    {
     "name": "stdout",
     "output_type": "stream",
     "text": [
      "run this code\n"
     ]
    }
   ],
   "source": [
    "#quick test2\n",
    "if isinstance(test_ct_list, str):\n",
    "    test_ct_list=[test_ct_list]\n",
    "    print(\"run this code\")"
   ]
  },
  {
   "cell_type": "code",
   "execution_count": 7,
   "id": "2760e357",
   "metadata": {},
   "outputs": [],
   "source": [
    "def autocropmin(image, threshold=100, kernsel_size = 10):\n",
    "        \n",
    "    img = image.copy()\n",
    "    \n",
    "    SIZE = img.shape[0]\n",
    "    imgfilt = ndimage.minimum_filter(img, size=kernsel_size)\n",
    "    img_b=np.where(imgfilt<threshold,0,255)\n",
    "    a=img_b[:,:,0].sum(axis=1)\n",
    "    a=np.concatenate(([0],a,[0]))\n",
    "\n",
    "    a_=np.where(a==0)[0]\n",
    "    mina=a_[np.argmax(a_[1:]-a_[:-1])]\n",
    "    maxa=a_[np.argmax(a_[1:]-a_[:-1])+1]-1\n",
    "\n",
    "    b=img_b[:,:,0].sum(axis=0)\n",
    "    b=np.concatenate(([0],b,[0]))\n",
    "\n",
    "    b_=np.where(b==0)[0]\n",
    "    minb=b_[np.argmax(b_[1:]-b_[:-1])]\n",
    "    maxb=b_[np.argmax(b_[1:]-b_[:-1])+1]-1\n",
    "\n",
    "    if  mina!=maxa and minb!=maxb:\n",
    "        imageout=img[mina:maxa,minb:maxb,:]\n",
    "    else:\n",
    "        imageout=img\n",
    "\n",
    "    return imageout"
   ]
  },
  {
   "cell_type": "code",
   "execution_count": 8,
   "id": "28e91a81",
   "metadata": {},
   "outputs": [
    {
     "name": "stderr",
     "output_type": "stream",
     "text": [
      "100%|██████████| 1/1 [00:01<00:00,  1.20s/it]\n"
     ]
    }
   ],
   "source": [
    "diff_shape_ct_list=[]\n",
    "for i in tqdm(range(len(test_ct_list))):\n",
    "    \n",
    "    tmp_list=list(glob.glob(os.path.join(test_ct_list[i], \"*\")))\n",
    "    \n",
    "    \n",
    "    \n",
    "    tmp_shape_set=set()\n",
    "    for j in range(len(tmp_list)):\n",
    "    \n",
    "        str1=tmp_list[j]\n",
    "        img=cv2.imread(str1)\n",
    "        \n",
    "        try:\n",
    "            tmp_shape_set.add(img.shape)\n",
    "        except:\n",
    "            print(\"bug file\")\n",
    "            continue\n",
    "        \n",
    "        img=autocropmin(img)\n",
    "\n",
    "\n",
    "        str1=str1.replace(test_folder_path,\"work_test/test_crop\")\n",
    "\n",
    "\n",
    "        folder_path=\"/\".join(str1.split(\"/\")[:-1])\n",
    "        \n",
    "        if len(tmp_shape_set)!=1:\n",
    "            shutil.rmtree(folder_path)\n",
    "            diff_shape_ct_list.append(folder_path.split(\"/\")[-1])\n",
    "            print(folder_path)\n",
    "            break\n",
    "            \n",
    "        if not os.path.exists(folder_path):\n",
    "            os.makedirs(folder_path)\n",
    "        cv2.imwrite(str1,img)\n"
   ]
  },
  {
   "cell_type": "code",
   "execution_count": 9,
   "id": "356a409a",
   "metadata": {},
   "outputs": [],
   "source": [
    "for ct in diff_shape_ct_list:\n",
    "    str1=test_folder_path+\"/\"+ct\n",
    "    str2=\"work_test/test_crop/\"+ct\n",
    "    \n",
    "    tmp_list=list(glob.glob(os.path.join(str1, \"*\")))\n",
    "    last_file=str(len(tmp_list)-1)+\".jpg\"\n",
    "    str1=str1+\"/\"+last_file\n",
    "    str2=str2+\"/\"+last_file\n",
    "    img=cv2.imread(str1)\n",
    "    img=autocropmin(img)\n",
    "    folder_path=\"/\".join(str2.split(\"/\")[:-1])\n",
    "    \n",
    "    if not os.path.exists(folder_path):\n",
    "        os.makedirs(folder_path)\n",
    "    cv2.imwrite(str2,img)\n",
    "    "
   ]
  },
  {
   "cell_type": "code",
   "execution_count": null,
   "id": "eea7eec6",
   "metadata": {},
   "outputs": [],
   "source": []
  }
 ],
 "metadata": {
  "kernelspec": {
   "display_name": "Python 3",
   "language": "python",
   "name": "python3"
  },
  "language_info": {
   "codemirror_mode": {
    "name": "ipython",
    "version": 3
   },
   "file_extension": ".py",
   "mimetype": "text/x-python",
   "name": "python",
   "nbconvert_exporter": "python",
   "pygments_lexer": "ipython3",
   "version": "3.7.11"
  }
 },
 "nbformat": 4,
 "nbformat_minor": 5
}
