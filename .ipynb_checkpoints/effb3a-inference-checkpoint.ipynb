{
 "cells": [
  {
   "cell_type": "code",
   "execution_count": 1,
   "id": "7f8c7698",
   "metadata": {},
   "outputs": [],
   "source": [
    "import os\n",
    "import gc\n",
    "import cv2\n",
    "import math\n",
    "import copy\n",
    "import time\n",
    "import random\n",
    "\n",
    "# For data manipulation\n",
    "import numpy as np\n",
    "import pandas as pd\n",
    "\n",
    "# Pytorch Imports\n",
    "import torch\n",
    "import torch.nn as nn\n",
    "import torch.optim as optim\n",
    "import torch.nn.functional as F\n",
    "from torch.optim import lr_scheduler\n",
    "from torch.utils.data import Dataset, DataLoader\n",
    "from torch.cuda import amp\n",
    "\n",
    "# Albumentations for augmentations\n",
    "import albumentations as A\n",
    "from albumentations.pytorch import ToTensorV2\n",
    "\n",
    "\n",
    "from sklearn.metrics import f1_score,roc_auc_score\n",
    "\n",
    "\n",
    "import timm\n",
    "from timm.models.efficientnet import *\n",
    "\n",
    "# Utils\n",
    "import joblib\n",
    "from tqdm import tqdm\n",
    "from collections import defaultdict\n",
    "\n",
    "\n",
    "import warnings\n",
    "warnings.filterwarnings(\"ignore\")\n",
    "\n",
    "from sklearn.metrics import f1_score\n",
    "\n",
    "import matplotlib.pyplot as plt\n",
    "import glob"
   ]
  },
  {
   "cell_type": "code",
   "execution_count": 2,
   "id": "1f881798",
   "metadata": {},
   "outputs": [],
   "source": [
    "test_ct_all_list=list(glob.glob(\"/home/fate/covid19_CT2/input/test_crop/*/*\")) "
   ]
  },
  {
   "cell_type": "code",
   "execution_count": 3,
   "id": "f6159b59",
   "metadata": {},
   "outputs": [
    {
     "data": {
      "text/plain": [
       "874235"
      ]
     },
     "execution_count": 3,
     "metadata": {},
     "output_type": "execute_result"
    }
   ],
   "source": [
    "len(test_ct_all_list)"
   ]
  },
  {
   "cell_type": "code",
   "execution_count": 4,
   "id": "e560b2cd",
   "metadata": {},
   "outputs": [],
   "source": [
    "weights_path=\"/home/fate/covid19_CT/model/f1/job_51_effnetb3a.bin\""
   ]
  },
  {
   "cell_type": "code",
   "execution_count": 6,
   "id": "0fb21de6",
   "metadata": {},
   "outputs": [],
   "source": [
    "df = pd.DataFrame(test_ct_all_list, columns = ['path'])"
   ]
  },
  {
   "cell_type": "code",
   "execution_count": 5,
   "id": "640776f8",
   "metadata": {},
   "outputs": [],
   "source": [
    "class Covid19Dataset(Dataset):\n",
    "    def __init__(self, df,transforms=None):\n",
    "        self.df = df\n",
    "  \n",
    "        self.path = df['path'].values\n",
    " \n",
    "        self.transforms = transforms\n",
    "        \n",
    "    def __len__(self):\n",
    "        return len(self.df)\n",
    "    \n",
    "    def __getitem__(self, index):\n",
    " \n",
    "\n",
    "        img_path_ = self.path[index]\n",
    "     \n",
    "\n",
    "        img = cv2.imread(img_path_)\n",
    "        try:\n",
    "            img = cv2.cvtColor(img, cv2.COLOR_BGR2RGB)\n",
    "        except:\n",
    "            print(img_path_ )\n",
    "        img = self.transforms(image=img)['image']\n",
    "\n",
    "            \n",
    "\n",
    "        return {\n",
    "            'image': img,\n",
    "\n",
    "            'id' : img_path_ \n",
    "        }\n",
    "            "
   ]
  },
  {
   "cell_type": "code",
   "execution_count": 7,
   "id": "2addc415",
   "metadata": {},
   "outputs": [
    {
     "data": {
      "text/html": [
       "<div>\n",
       "<style scoped>\n",
       "    .dataframe tbody tr th:only-of-type {\n",
       "        vertical-align: middle;\n",
       "    }\n",
       "\n",
       "    .dataframe tbody tr th {\n",
       "        vertical-align: top;\n",
       "    }\n",
       "\n",
       "    .dataframe thead th {\n",
       "        text-align: right;\n",
       "    }\n",
       "</style>\n",
       "<table border=\"1\" class=\"dataframe\">\n",
       "  <thead>\n",
       "    <tr style=\"text-align: right;\">\n",
       "      <th></th>\n",
       "      <th>path</th>\n",
       "    </tr>\n",
       "  </thead>\n",
       "  <tbody>\n",
       "    <tr>\n",
       "      <th>0</th>\n",
       "      <td>/home/fate/covid19_CT2/input/test_crop/ct_scan...</td>\n",
       "    </tr>\n",
       "    <tr>\n",
       "      <th>1</th>\n",
       "      <td>/home/fate/covid19_CT2/input/test_crop/ct_scan...</td>\n",
       "    </tr>\n",
       "    <tr>\n",
       "      <th>2</th>\n",
       "      <td>/home/fate/covid19_CT2/input/test_crop/ct_scan...</td>\n",
       "    </tr>\n",
       "    <tr>\n",
       "      <th>3</th>\n",
       "      <td>/home/fate/covid19_CT2/input/test_crop/ct_scan...</td>\n",
       "    </tr>\n",
       "    <tr>\n",
       "      <th>4</th>\n",
       "      <td>/home/fate/covid19_CT2/input/test_crop/ct_scan...</td>\n",
       "    </tr>\n",
       "    <tr>\n",
       "      <th>...</th>\n",
       "      <td>...</td>\n",
       "    </tr>\n",
       "    <tr>\n",
       "      <th>874230</th>\n",
       "      <td>/home/fate/covid19_CT2/input/test_crop/ct_scan...</td>\n",
       "    </tr>\n",
       "    <tr>\n",
       "      <th>874231</th>\n",
       "      <td>/home/fate/covid19_CT2/input/test_crop/ct_scan...</td>\n",
       "    </tr>\n",
       "    <tr>\n",
       "      <th>874232</th>\n",
       "      <td>/home/fate/covid19_CT2/input/test_crop/ct_scan...</td>\n",
       "    </tr>\n",
       "    <tr>\n",
       "      <th>874233</th>\n",
       "      <td>/home/fate/covid19_CT2/input/test_crop/ct_scan...</td>\n",
       "    </tr>\n",
       "    <tr>\n",
       "      <th>874234</th>\n",
       "      <td>/home/fate/covid19_CT2/input/test_crop/ct_scan...</td>\n",
       "    </tr>\n",
       "  </tbody>\n",
       "</table>\n",
       "<p>874235 rows × 1 columns</p>\n",
       "</div>"
      ],
      "text/plain": [
       "                                                     path\n",
       "0       /home/fate/covid19_CT2/input/test_crop/ct_scan...\n",
       "1       /home/fate/covid19_CT2/input/test_crop/ct_scan...\n",
       "2       /home/fate/covid19_CT2/input/test_crop/ct_scan...\n",
       "3       /home/fate/covid19_CT2/input/test_crop/ct_scan...\n",
       "4       /home/fate/covid19_CT2/input/test_crop/ct_scan...\n",
       "...                                                   ...\n",
       "874230  /home/fate/covid19_CT2/input/test_crop/ct_scan...\n",
       "874231  /home/fate/covid19_CT2/input/test_crop/ct_scan...\n",
       "874232  /home/fate/covid19_CT2/input/test_crop/ct_scan...\n",
       "874233  /home/fate/covid19_CT2/input/test_crop/ct_scan...\n",
       "874234  /home/fate/covid19_CT2/input/test_crop/ct_scan...\n",
       "\n",
       "[874235 rows x 1 columns]"
      ]
     },
     "execution_count": 7,
     "metadata": {},
     "output_type": "execute_result"
    }
   ],
   "source": [
    "df"
   ]
  },
  {
   "cell_type": "code",
   "execution_count": 8,
   "id": "34880488",
   "metadata": {},
   "outputs": [],
   "source": [
    "data_transforms = {\n",
    "\n",
    "    \n",
    "    \"valid\": A.Compose([\n",
    "        A.Resize(256, 256),\n",
    "\n",
    "        A.Normalize(),\n",
    "        ToTensorV2()], p=1.)\n",
    "}"
   ]
  },
  {
   "cell_type": "code",
   "execution_count": 14,
   "id": "ec81342f",
   "metadata": {},
   "outputs": [],
   "source": [
    "def prepare_loaders():\n",
    "\n",
    "\n",
    "  \n",
    "\n",
    "    test_dataset = Covid19Dataset(df, transforms=data_transforms[\"valid\"])\n",
    "\n",
    "\n",
    "    test_loader = DataLoader(test_dataset, batch_size=128, \n",
    "                              num_workers=16, shuffle=False, pin_memory=True)\n",
    "\n",
    "    \n",
    "    return test_loader"
   ]
  },
  {
   "cell_type": "code",
   "execution_count": 15,
   "id": "8ac2c4cf",
   "metadata": {},
   "outputs": [],
   "source": [
    "class Net(nn.Module):\n",
    "    def __init__(self):\n",
    "        super(Net, self).__init__()\n",
    "\n",
    "        e = efficientnet_b3a(pretrained=True, drop_rate=0.3, drop_path_rate=0.2)\n",
    "        self.b0 = nn.Sequential(\n",
    "            e.conv_stem,\n",
    "            e.bn1,\n",
    "            e.act1,\n",
    "        )\n",
    "        self.b1 = e.blocks[0]\n",
    "        self.b2 = e.blocks[1]\n",
    "        self.b3 = e.blocks[2]\n",
    "        self.b4 = e.blocks[3]\n",
    "        self.b5 = e.blocks[4]\n",
    "        self.b6 = e.blocks[5]\n",
    "        self.b7 = e.blocks[6]\n",
    "        self.b8 = nn.Sequential(\n",
    "            e.conv_head, #384, 1536\n",
    "            e.bn2,\n",
    "            e.act2,\n",
    "        )\n",
    "        #self.logit = nn.Linear(1536,1)\n",
    "        \n",
    "        \n",
    "        self.emb = nn.Linear(1536,224)\n",
    "        self.logit = nn.Linear(224,1)\n",
    "        \n",
    "#         self.mask = nn.Sequential(\n",
    "#             nn.Conv2d(136, 128, kernel_size=3, padding=1),\n",
    "#             nn.BatchNorm2d(128),\n",
    "#             nn.ReLU(inplace=True),\n",
    "#             nn.Conv2d(128, 128, kernel_size=3, padding=1),\n",
    "#             nn.BatchNorm2d(128),\n",
    "#             nn.ReLU(inplace=True),\n",
    "#             nn.Conv2d(128, 1, kernel_size=1, padding=0),\n",
    "#         )\n",
    "\n",
    "\n",
    "    # @torch.cuda.amp.autocast()\n",
    "    def forward(self, image):\n",
    "        batch_size = len(image)\n",
    "        x = 2*image-1     # ; print('input ',   x.shape)\n",
    "\n",
    "        x = self.b0(x) #; print (x.shape)  # torch.Size([2, 40, 256, 256])train_batch\n",
    "        x = self.b1(x) #; print (x.shape)  # torch.Size([2, 24, 256, 256])\n",
    "        x = self.b2(x) #; print (x.shape)  # torch.Size([2, 32, 128, 128])\n",
    "        x = self.b3(x) #; print (x.shape)  # torch.Size([2, 48, 64, 64])\n",
    "        x = self.b4(x) #; print (x.shape)  # torch.Size([2, 96, 32, 32])\n",
    "        x = self.b5(x) #; print (x.shape)  # torch.Size([2, 136, 32, 32])\n",
    "        #------------\n",
    "#         mask = self.mask(x)\n",
    "        #-------------\n",
    "        x = self.b6(x) #; print (x.shape)  # torch.Size([2, 232, 16, 16])\n",
    "        x = self.b7(x) #; print (x.shape)  # torch.Size([2, 384, 16, 16])\n",
    "        x = self.b8(x) #; print (x.shape)  # torch.Size([2, 1536, 16, 16])\n",
    "        x = F.adaptive_avg_pool2d(x,1).reshape(batch_size,-1)\n",
    "#         return logitx = F.dropout(x, 0.2, training=self.training)\n",
    "        x = self.emb(x)\n",
    "        logit = self.logit(x)\n",
    "        #return logit, mask\n",
    "        return x\n",
    "\n"
   ]
  },
  {
   "cell_type": "code",
   "execution_count": 16,
   "id": "bb2a0976",
   "metadata": {},
   "outputs": [],
   "source": [
    "model=Net()\n",
    "#model = nn.DataParallel(model)\n",
    "model.load_state_dict(torch.load(weights_path))\n",
    "model=model.cuda()"
   ]
  },
  {
   "cell_type": "code",
   "execution_count": 17,
   "id": "a6b3ce25",
   "metadata": {},
   "outputs": [],
   "source": [
    "@torch.inference_mode()\n",
    "def get_embeddings(model, dataloader, device):\n",
    "    model.eval()\n",
    "    \n",
    "    LABELS = []\n",
    "    EMBEDS = []\n",
    "    IDS = []\n",
    "    \n",
    "    bar = tqdm(enumerate(dataloader), total=len(dataloader))\n",
    "    \n",
    "    for step, data in bar:  \n",
    "\n",
    "        \n",
    "    \n",
    "        data_img = data['image']\n",
    "    \n",
    "        images = data_img.to(device, dtype=torch.float)\n",
    "\n",
    "\n",
    "\n",
    "        ids = data['id']\n",
    "\n",
    "        outputs = model(images)\n",
    "        \n",
    "\n",
    "        EMBEDS.append(outputs.cpu().numpy())\n",
    "        IDS.append(ids)\n",
    "    \n",
    "\n",
    "    \n",
    "    return EMBEDS, IDS"
   ]
  },
  {
   "cell_type": "code",
   "execution_count": 18,
   "id": "4075e270",
   "metadata": {},
   "outputs": [],
   "source": [
    "test_loader = prepare_loaders()"
   ]
  },
  {
   "cell_type": "code",
   "execution_count": 21,
   "id": "fc258cfc",
   "metadata": {},
   "outputs": [],
   "source": [
    "device=torch.device(\"cuda:0\" if torch.cuda.is_available() else \"cpu\")"
   ]
  },
  {
   "cell_type": "code",
   "execution_count": 22,
   "id": "bd823513",
   "metadata": {},
   "outputs": [
    {
     "name": "stderr",
     "output_type": "stream",
     "text": [
      "100%|██████████| 6830/6830 [13:00<00:00,  8.75it/s]\n"
     ]
    }
   ],
   "source": [
    "embed,name=get_embeddings(model,test_loader,device)"
   ]
  },
  {
   "cell_type": "code",
   "execution_count": 23,
   "id": "d7ed7d43",
   "metadata": {},
   "outputs": [],
   "source": [
    "embed = np.vstack(embed)\n",
    "name = np.concatenate(name)\n"
   ]
  },
  {
   "cell_type": "code",
   "execution_count": 24,
   "id": "88337a91",
   "metadata": {},
   "outputs": [
    {
     "data": {
      "text/plain": [
       "(874235,)"
      ]
     },
     "execution_count": 24,
     "metadata": {},
     "output_type": "execute_result"
    }
   ],
   "source": [
    "name.shape"
   ]
  },
  {
   "cell_type": "code",
   "execution_count": 25,
   "id": "0a5e74a1",
   "metadata": {},
   "outputs": [],
   "source": [
    "dict_all=dict(zip(name, embed))"
   ]
  },
  {
   "cell_type": "code",
   "execution_count": 30,
   "id": "6aa90de4",
   "metadata": {},
   "outputs": [],
   "source": [
    "df_224=pd.DataFrame(list(dict_all.items()),\n",
    "                   columns=['path', 'embed'])"
   ]
  },
  {
   "cell_type": "code",
   "execution_count": 34,
   "id": "3f6bbc4c",
   "metadata": {},
   "outputs": [
    {
     "data": {
      "text/html": [
       "<div>\n",
       "<style scoped>\n",
       "    .dataframe tbody tr th:only-of-type {\n",
       "        vertical-align: middle;\n",
       "    }\n",
       "\n",
       "    .dataframe tbody tr th {\n",
       "        vertical-align: top;\n",
       "    }\n",
       "\n",
       "    .dataframe thead th {\n",
       "        text-align: right;\n",
       "    }\n",
       "</style>\n",
       "<table border=\"1\" class=\"dataframe\">\n",
       "  <thead>\n",
       "    <tr style=\"text-align: right;\">\n",
       "      <th></th>\n",
       "      <th>path</th>\n",
       "      <th>embed</th>\n",
       "    </tr>\n",
       "  </thead>\n",
       "  <tbody>\n",
       "    <tr>\n",
       "      <th>0</th>\n",
       "      <td>/home/fate/covid19_CT2/input/test_crop/ct_scan...</td>\n",
       "      <td>[0.017912194, -2.0158145e-06, 1.0221355, 0.618...</td>\n",
       "    </tr>\n",
       "    <tr>\n",
       "      <th>1</th>\n",
       "      <td>/home/fate/covid19_CT2/input/test_crop/ct_scan...</td>\n",
       "      <td>[0.022885323, -2.4122714e-06, 1.2911112, 0.791...</td>\n",
       "    </tr>\n",
       "    <tr>\n",
       "      <th>2</th>\n",
       "      <td>/home/fate/covid19_CT2/input/test_crop/ct_scan...</td>\n",
       "      <td>[0.005369455, -7.034596e-07, 0.33232358, 0.212...</td>\n",
       "    </tr>\n",
       "    <tr>\n",
       "      <th>3</th>\n",
       "      <td>/home/fate/covid19_CT2/input/test_crop/ct_scan...</td>\n",
       "      <td>[0.015921496, -1.4665876e-06, 0.85001236, 0.55...</td>\n",
       "    </tr>\n",
       "    <tr>\n",
       "      <th>4</th>\n",
       "      <td>/home/fate/covid19_CT2/input/test_crop/ct_scan...</td>\n",
       "      <td>[0.013488156, -1.3310564e-06, 0.72830224, 0.46...</td>\n",
       "    </tr>\n",
       "  </tbody>\n",
       "</table>\n",
       "</div>"
      ],
      "text/plain": [
       "                                                path  \\\n",
       "0  /home/fate/covid19_CT2/input/test_crop/ct_scan...   \n",
       "1  /home/fate/covid19_CT2/input/test_crop/ct_scan...   \n",
       "2  /home/fate/covid19_CT2/input/test_crop/ct_scan...   \n",
       "3  /home/fate/covid19_CT2/input/test_crop/ct_scan...   \n",
       "4  /home/fate/covid19_CT2/input/test_crop/ct_scan...   \n",
       "\n",
       "                                               embed  \n",
       "0  [0.017912194, -2.0158145e-06, 1.0221355, 0.618...  \n",
       "1  [0.022885323, -2.4122714e-06, 1.2911112, 0.791...  \n",
       "2  [0.005369455, -7.034596e-07, 0.33232358, 0.212...  \n",
       "3  [0.015921496, -1.4665876e-06, 0.85001236, 0.55...  \n",
       "4  [0.013488156, -1.3310564e-06, 0.72830224, 0.46...  "
      ]
     },
     "execution_count": 34,
     "metadata": {},
     "output_type": "execute_result"
    }
   ],
   "source": [
    "df_224.head()"
   ]
  },
  {
   "cell_type": "code",
   "execution_count": 40,
   "id": "2de17748",
   "metadata": {},
   "outputs": [],
   "source": [
    "df_224[\"ct_path\"]=df_224[\"path\"].apply(lambda x: x.split(\"/\")[-2])\n",
    "df_224[\"ct_slice\"]=df_224[\"path\"].apply(lambda x: int(x.split(\"/\")[-1].split(\".\")[0]))"
   ]
  },
  {
   "cell_type": "code",
   "execution_count": 42,
   "id": "d4432383",
   "metadata": {},
   "outputs": [],
   "source": [
    "df_224[\"ct_len\"]=df_224.groupby([\"ct_path\"])[\"ct_slice\"].transform('count')"
   ]
  },
  {
   "cell_type": "code",
   "execution_count": 43,
   "id": "aeecb8e3",
   "metadata": {},
   "outputs": [],
   "source": [
    "df_224.sort_values(by=['ct_path', 'ct_slice'], inplace=True)"
   ]
  },
  {
   "cell_type": "code",
   "execution_count": 45,
   "id": "d7c93878",
   "metadata": {},
   "outputs": [],
   "source": [
    "df_224=df_224.reset_index(drop=True)"
   ]
  },
  {
   "cell_type": "code",
   "execution_count": 47,
   "id": "5de03c67",
   "metadata": {},
   "outputs": [
    {
     "data": {
      "text/html": [
       "<div>\n",
       "<style scoped>\n",
       "    .dataframe tbody tr th:only-of-type {\n",
       "        vertical-align: middle;\n",
       "    }\n",
       "\n",
       "    .dataframe tbody tr th {\n",
       "        vertical-align: top;\n",
       "    }\n",
       "\n",
       "    .dataframe thead th {\n",
       "        text-align: right;\n",
       "    }\n",
       "</style>\n",
       "<table border=\"1\" class=\"dataframe\">\n",
       "  <thead>\n",
       "    <tr style=\"text-align: right;\">\n",
       "      <th></th>\n",
       "      <th>path</th>\n",
       "      <th>embed</th>\n",
       "      <th>ct_path</th>\n",
       "      <th>ct_slice</th>\n",
       "      <th>ct_len</th>\n",
       "    </tr>\n",
       "  </thead>\n",
       "  <tbody>\n",
       "    <tr>\n",
       "      <th>0</th>\n",
       "      <td>/home/fate/covid19_CT2/input/test_crop/ct_scan...</td>\n",
       "      <td>[0.0029444182, 2.0627795e-08, 0.1728667, 0.119...</td>\n",
       "      <td>ct_scan_0</td>\n",
       "      <td>0</td>\n",
       "      <td>50</td>\n",
       "    </tr>\n",
       "    <tr>\n",
       "      <th>1</th>\n",
       "      <td>/home/fate/covid19_CT2/input/test_crop/ct_scan...</td>\n",
       "      <td>[0.002479718, 1.1204702e-07, 0.17129861, 0.109...</td>\n",
       "      <td>ct_scan_0</td>\n",
       "      <td>1</td>\n",
       "      <td>50</td>\n",
       "    </tr>\n",
       "    <tr>\n",
       "      <th>2</th>\n",
       "      <td>/home/fate/covid19_CT2/input/test_crop/ct_scan...</td>\n",
       "      <td>[-3.0830503e-05, 2.5171153e-07, 0.0064469655, ...</td>\n",
       "      <td>ct_scan_0</td>\n",
       "      <td>2</td>\n",
       "      <td>50</td>\n",
       "    </tr>\n",
       "    <tr>\n",
       "      <th>3</th>\n",
       "      <td>/home/fate/covid19_CT2/input/test_crop/ct_scan...</td>\n",
       "      <td>[0.0011787838, 1.9301933e-07, 0.09569399, 0.06...</td>\n",
       "      <td>ct_scan_0</td>\n",
       "      <td>3</td>\n",
       "      <td>50</td>\n",
       "    </tr>\n",
       "    <tr>\n",
       "      <th>4</th>\n",
       "      <td>/home/fate/covid19_CT2/input/test_crop/ct_scan...</td>\n",
       "      <td>[0.0054802196, -4.1533087e-07, 0.27055162, 0.1...</td>\n",
       "      <td>ct_scan_0</td>\n",
       "      <td>4</td>\n",
       "      <td>50</td>\n",
       "    </tr>\n",
       "    <tr>\n",
       "      <th>...</th>\n",
       "      <td>...</td>\n",
       "      <td>...</td>\n",
       "      <td>...</td>\n",
       "      <td>...</td>\n",
       "      <td>...</td>\n",
       "    </tr>\n",
       "    <tr>\n",
       "      <th>874230</th>\n",
       "      <td>/home/fate/covid19_CT2/input/test_crop/ct_scan...</td>\n",
       "      <td>[0.0043582036, -9.32421e-07, 0.17744961, 0.096...</td>\n",
       "      <td>ct_scan_999</td>\n",
       "      <td>38</td>\n",
       "      <td>43</td>\n",
       "    </tr>\n",
       "    <tr>\n",
       "      <th>874231</th>\n",
       "      <td>/home/fate/covid19_CT2/input/test_crop/ct_scan...</td>\n",
       "      <td>[0.009558492, -9.1470235e-07, 0.6620663, 0.387...</td>\n",
       "      <td>ct_scan_999</td>\n",
       "      <td>39</td>\n",
       "      <td>43</td>\n",
       "    </tr>\n",
       "    <tr>\n",
       "      <th>874232</th>\n",
       "      <td>/home/fate/covid19_CT2/input/test_crop/ct_scan...</td>\n",
       "      <td>[0.0074868137, -7.4435866e-07, 0.5292205, 0.32...</td>\n",
       "      <td>ct_scan_999</td>\n",
       "      <td>40</td>\n",
       "      <td>43</td>\n",
       "    </tr>\n",
       "    <tr>\n",
       "      <th>874233</th>\n",
       "      <td>/home/fate/covid19_CT2/input/test_crop/ct_scan...</td>\n",
       "      <td>[0.00828557, -1.0583517e-06, 0.5592833, 0.3367...</td>\n",
       "      <td>ct_scan_999</td>\n",
       "      <td>41</td>\n",
       "      <td>43</td>\n",
       "    </tr>\n",
       "    <tr>\n",
       "      <th>874234</th>\n",
       "      <td>/home/fate/covid19_CT2/input/test_crop/ct_scan...</td>\n",
       "      <td>[0.0064848415, -1.4900057e-06, 0.34414124, 0.2...</td>\n",
       "      <td>ct_scan_999</td>\n",
       "      <td>42</td>\n",
       "      <td>43</td>\n",
       "    </tr>\n",
       "  </tbody>\n",
       "</table>\n",
       "<p>874235 rows × 5 columns</p>\n",
       "</div>"
      ],
      "text/plain": [
       "                                                     path  \\\n",
       "0       /home/fate/covid19_CT2/input/test_crop/ct_scan...   \n",
       "1       /home/fate/covid19_CT2/input/test_crop/ct_scan...   \n",
       "2       /home/fate/covid19_CT2/input/test_crop/ct_scan...   \n",
       "3       /home/fate/covid19_CT2/input/test_crop/ct_scan...   \n",
       "4       /home/fate/covid19_CT2/input/test_crop/ct_scan...   \n",
       "...                                                   ...   \n",
       "874230  /home/fate/covid19_CT2/input/test_crop/ct_scan...   \n",
       "874231  /home/fate/covid19_CT2/input/test_crop/ct_scan...   \n",
       "874232  /home/fate/covid19_CT2/input/test_crop/ct_scan...   \n",
       "874233  /home/fate/covid19_CT2/input/test_crop/ct_scan...   \n",
       "874234  /home/fate/covid19_CT2/input/test_crop/ct_scan...   \n",
       "\n",
       "                                                    embed      ct_path  \\\n",
       "0       [0.0029444182, 2.0627795e-08, 0.1728667, 0.119...    ct_scan_0   \n",
       "1       [0.002479718, 1.1204702e-07, 0.17129861, 0.109...    ct_scan_0   \n",
       "2       [-3.0830503e-05, 2.5171153e-07, 0.0064469655, ...    ct_scan_0   \n",
       "3       [0.0011787838, 1.9301933e-07, 0.09569399, 0.06...    ct_scan_0   \n",
       "4       [0.0054802196, -4.1533087e-07, 0.27055162, 0.1...    ct_scan_0   \n",
       "...                                                   ...          ...   \n",
       "874230  [0.0043582036, -9.32421e-07, 0.17744961, 0.096...  ct_scan_999   \n",
       "874231  [0.009558492, -9.1470235e-07, 0.6620663, 0.387...  ct_scan_999   \n",
       "874232  [0.0074868137, -7.4435866e-07, 0.5292205, 0.32...  ct_scan_999   \n",
       "874233  [0.00828557, -1.0583517e-06, 0.5592833, 0.3367...  ct_scan_999   \n",
       "874234  [0.0064848415, -1.4900057e-06, 0.34414124, 0.2...  ct_scan_999   \n",
       "\n",
       "        ct_slice  ct_len  \n",
       "0              0      50  \n",
       "1              1      50  \n",
       "2              2      50  \n",
       "3              3      50  \n",
       "4              4      50  \n",
       "...          ...     ...  \n",
       "874230        38      43  \n",
       "874231        39      43  \n",
       "874232        40      43  \n",
       "874233        41      43  \n",
       "874234        42      43  \n",
       "\n",
       "[874235 rows x 5 columns]"
      ]
     },
     "execution_count": 47,
     "metadata": {},
     "output_type": "execute_result"
    }
   ],
   "source": [
    "df_224"
   ]
  },
  {
   "cell_type": "code",
   "execution_count": 49,
   "id": "80e8ffd2",
   "metadata": {},
   "outputs": [
    {
     "data": {
      "text/plain": [
       "5281"
      ]
     },
     "execution_count": 49,
     "metadata": {},
     "output_type": "execute_result"
    }
   ],
   "source": [
    "df_224.ct_path.nunique()"
   ]
  },
  {
   "cell_type": "code",
   "execution_count": 50,
   "id": "71d8d3b2",
   "metadata": {},
   "outputs": [],
   "source": [
    "df_224.to_pickle(\"test_224_embed.pkl\")  "
   ]
  },
  {
   "cell_type": "code",
   "execution_count": 51,
   "id": "56a32f5c",
   "metadata": {},
   "outputs": [],
   "source": [
    "df_p=pd.read_pickle(\"test_224_embed.pkl\") "
   ]
  },
  {
   "cell_type": "code",
   "execution_count": 54,
   "id": "9bf12131",
   "metadata": {},
   "outputs": [],
   "source": [
    "from pandas.util.testing import assert_frame_equal\n",
    "assert_frame_equal(df_p,df_224)"
   ]
  },
  {
   "cell_type": "code",
   "execution_count": null,
   "id": "fb1bd4e2",
   "metadata": {},
   "outputs": [],
   "source": []
  }
 ],
 "metadata": {
  "kernelspec": {
   "display_name": "Python 3",
   "language": "python",
   "name": "python3"
  },
  "language_info": {
   "codemirror_mode": {
    "name": "ipython",
    "version": 3
   },
   "file_extension": ".py",
   "mimetype": "text/x-python",
   "name": "python",
   "nbconvert_exporter": "python",
   "pygments_lexer": "ipython3",
   "version": "3.7.11"
  }
 },
 "nbformat": 4,
 "nbformat_minor": 5
}
