{
 "cells": [
  {
   "cell_type": "code",
   "execution_count": 1,
   "id": "c0f0ef19",
   "metadata": {},
   "outputs": [],
   "source": [
    "import numpy as np\n",
    "import pandas as pd\n",
    "import os"
   ]
  },
  {
   "cell_type": "code",
   "execution_count": 2,
   "id": "b15d9d60",
   "metadata": {},
   "outputs": [],
   "source": [
    "df1=pd.read_csv(\"output/cnn_one_pred_df.csv\")\n",
    "df10=pd.read_csv(\"output/cnn_10_pred_df.csv\")\n",
    "df50=pd.read_csv(\"output/cnn_50_pred_df.csv\")\n",
    "df_lstm=pd.read_csv(\"output/lstm_pred_df.csv\")\n",
    "df_swin=pd.read_csv(\"swin_inference/embed_swinv2_softmax_output.csv\")  #from "
   ]
  },
  {
   "cell_type": "code",
   "execution_count": 3,
   "id": "918ec0eb",
   "metadata": {},
   "outputs": [],
   "source": [
    "df_swin=df_swin[[\"Unnamed: 0\",\"1\"]]\n",
    "df_swin=df_swin.rename(columns={\"Unnamed: 0\":\"name\",\"1\":\"pred\"})"
   ]
  },
  {
   "cell_type": "code",
   "execution_count": 4,
   "id": "1499fd64",
   "metadata": {},
   "outputs": [
    {
     "name": "stdout",
     "output_type": "stream",
     "text": [
      "covid: 1   non_covid: 9\n"
     ]
    }
   ],
   "source": [
    "file=\"Submission1\"\n",
    "use_df=df10\n",
    "folder_path=\"covid_pred\"+\"/\"+file\n",
    "if not os.path.exists(folder_path):\n",
    "    os.makedirs(folder_path)\n",
    "use_df[\"name\"]=use_df[\"path\"].apply(lambda x : x.split(\"/\")[-1])\n",
    "covid_ct=use_df[use_df[\"pred\"]>0.5].name.values\n",
    "non_covid_ct=use_df[use_df[\"pred\"]<0.5].name.values\n",
    "\n",
    "covid_df=pd.DataFrame(covid_ct,columns=[\"ct_name\"])\n",
    "non_covid_df=pd.DataFrame(non_covid_ct,columns=[\"ct_name\"])\n",
    "covid_df.sort_values(by=['ct_name'],inplace=True)\n",
    "non_covid_df.sort_values(by=['ct_name'],inplace=True)\n",
    "\n",
    "covid_df.to_csv(f\"{folder_path}/covid.csv\",header=False,index=False)\n",
    "non_covid_df.to_csv(f\"{folder_path}/non-covid.csv\",header=False,index=False)\n",
    "print(\"covid:\",len(covid_df) , \"  non_covid:\",len(non_covid_df))\n",
    "    "
   ]
  },
  {
   "cell_type": "code",
   "execution_count": 5,
   "id": "89c80910",
   "metadata": {},
   "outputs": [
    {
     "name": "stdout",
     "output_type": "stream",
     "text": [
      "covid: 1   non_covid: 9\n"
     ]
    }
   ],
   "source": [
    "file=\"Submission2\"\n",
    "use_df=df_lstm\n",
    "folder_path=\"covid_pred\"+\"/\"+file\n",
    "if not os.path.exists(folder_path):\n",
    "    os.makedirs(folder_path)\n",
    "use_df[\"name\"]=use_df[\"path\"].apply(lambda x : x.split(\"/\")[-1])\n",
    "covid_ct=use_df[use_df[\"pred\"]>0.5].name.values\n",
    "non_covid_ct=use_df[use_df[\"pred\"]<0.5].name.values\n",
    "\n",
    "covid_df=pd.DataFrame(covid_ct,columns=[\"ct_name\"])\n",
    "non_covid_df=pd.DataFrame(non_covid_ct,columns=[\"ct_name\"])\n",
    "covid_df.sort_values(by=['ct_name'],inplace=True)\n",
    "non_covid_df.sort_values(by=['ct_name'],inplace=True)\n",
    "\n",
    "covid_df.to_csv(f\"{folder_path}/covid.csv\",header=False,index=False)\n",
    "non_covid_df.to_csv(f\"{folder_path}/non-covid.csv\",header=False,index=False)\n",
    "print(\"covid:\",len(covid_df) , \"  non_covid:\",len(non_covid_df))\n",
    "    "
   ]
  },
  {
   "cell_type": "code",
   "execution_count": 6,
   "id": "9539d5ca",
   "metadata": {},
   "outputs": [
    {
     "name": "stdout",
     "output_type": "stream",
     "text": [
      "covid: 679   non_covid: 4602\n"
     ]
    }
   ],
   "source": [
    "file=\"Submission3\"\n",
    "use_df=df_swin\n",
    "folder_path=\"covid_pred\"+\"/\"+file\n",
    "if not os.path.exists(folder_path):\n",
    "    os.makedirs(folder_path)\n",
    "\n",
    "covid_ct=use_df[use_df[\"pred\"]>0.5].name.values\n",
    "non_covid_ct=use_df[use_df[\"pred\"]<0.5].name.values\n",
    "\n",
    "covid_df=pd.DataFrame(covid_ct,columns=[\"ct_name\"])\n",
    "non_covid_df=pd.DataFrame(non_covid_ct,columns=[\"ct_name\"])\n",
    "covid_df.sort_values(by=['ct_name'],inplace=True)\n",
    "non_covid_df.sort_values(by=['ct_name'],inplace=True)\n",
    "\n",
    "covid_df.to_csv(f\"{folder_path}/covid.csv\",header=False,index=False)\n",
    "non_covid_df.to_csv(f\"{folder_path}/non-covid.csv\",header=False,index=False)\n",
    "print(\"covid:\",len(covid_df) , \"  non_covid:\",len(non_covid_df))"
   ]
  },
  {
   "cell_type": "code",
   "execution_count": 7,
   "id": "67366088",
   "metadata": {},
   "outputs": [
    {
     "name": "stdout",
     "output_type": "stream",
     "text": [
      "covid: 1   non_covid: 9\n"
     ]
    }
   ],
   "source": [
    "file=\"Submission4\"\n",
    "use_df=df50\n",
    "folder_path=\"covid_pred\"+\"/\"+file\n",
    "if not os.path.exists(folder_path):\n",
    "    os.makedirs(folder_path)\n",
    "use_df[\"name\"]=use_df[\"path\"].apply(lambda x : x.split(\"/\")[-1])\n",
    "covid_ct=use_df[use_df[\"pred\"]>0.5].name.values\n",
    "non_covid_ct=use_df[use_df[\"pred\"]<0.5].name.values\n",
    "\n",
    "covid_df=pd.DataFrame(covid_ct,columns=[\"ct_name\"])\n",
    "non_covid_df=pd.DataFrame(non_covid_ct,columns=[\"ct_name\"])\n",
    "covid_df.sort_values(by=['ct_name'],inplace=True)\n",
    "non_covid_df.sort_values(by=['ct_name'],inplace=True)\n",
    "\n",
    "covid_df.to_csv(f\"{folder_path}/covid.csv\",header=False,index=False)\n",
    "non_covid_df.to_csv(f\"{folder_path}/non-covid.csv\",header=False,index=False)\n",
    "print(\"covid:\",len(covid_df) , \"  non_covid:\",len(non_covid_df))"
   ]
  },
  {
   "cell_type": "code",
   "execution_count": 8,
   "id": "8ce003d1",
   "metadata": {},
   "outputs": [
    {
     "name": "stdout",
     "output_type": "stream",
     "text": [
      "covid: 1   non_covid: 9\n"
     ]
    }
   ],
   "source": [
    "file=\"Submission5\"\n",
    "df_total=df_swin.merge(df10[[\"name\",\"pred\"]], on='name')\n",
    "df_total=df_total.merge(df_lstm[[\"name\",\"pred\"]], on='name')\n",
    "df_total[\"total_pred\"]=(df_total.iloc[:,1].values+df_total.iloc[:,2].values+df_total.iloc[:,3].values)/3\n",
    "\n",
    "\n",
    "use_df=df_total\n",
    "folder_path=\"covid_pred\"+\"/\"+file\n",
    "if not os.path.exists(folder_path):\n",
    "    os.makedirs(folder_path)\n",
    "\n",
    "covid_ct=use_df[use_df[\"total_pred\"]>0.5].name.values\n",
    "non_covid_ct=use_df[use_df[\"total_pred\"]<0.5].name.values\n",
    "\n",
    "covid_df=pd.DataFrame(covid_ct,columns=[\"ct_name\"])\n",
    "\n",
    "non_covid_df=pd.DataFrame(non_covid_ct,columns=[\"ct_name\"])\n",
    "covid_df.sort_values(by=['ct_name'],inplace=True)\n",
    "non_covid_df.sort_values(by=['ct_name'],inplace=True)\n",
    "\n",
    "covid_df.to_csv(f\"{folder_path}/covid.csv\",header=False,index=False)\n",
    "non_covid_df.to_csv(f\"{folder_path}/non-covid.csv\",header=False,index=False)\n",
    "print(\"covid:\",len(covid_df) , \"  non_covid:\",len(non_covid_df))"
   ]
  },
  {
   "cell_type": "code",
   "execution_count": null,
   "id": "f8121593",
   "metadata": {},
   "outputs": [],
   "source": []
  }
 ],
 "metadata": {
  "kernelspec": {
   "display_name": "Python 3",
   "language": "python",
   "name": "python3"
  },
  "language_info": {
   "codemirror_mode": {
    "name": "ipython",
    "version": 3
   },
   "file_extension": ".py",
   "mimetype": "text/x-python",
   "name": "python",
   "nbconvert_exporter": "python",
   "pygments_lexer": "ipython3",
   "version": "3.7.11"
  }
 },
 "nbformat": 4,
 "nbformat_minor": 5
}
